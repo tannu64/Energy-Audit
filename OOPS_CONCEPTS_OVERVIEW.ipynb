{
  "nbformat": 4,
  "nbformat_minor": 0,
  "metadata": {
    "colab": {
      "provenance": [],
      "authorship_tag": "ABX9TyNtNkH+gIzt02lmUYosOzWI",
      "include_colab_link": true
    },
    "kernelspec": {
      "name": "python3",
      "display_name": "Python 3"
    },
    "language_info": {
      "name": "python"
    }
  },
  "cells": [
    {
      "cell_type": "markdown",
      "metadata": {
        "id": "view-in-github",
        "colab_type": "text"
      },
      "source": [
        "<a href=\"https://colab.research.google.com/github/tannu64/Energy-Audit/blob/main/OOPS_CONCEPTS_OVERVIEW.ipynb\" target=\"_parent\"><img src=\"https://colab.research.google.com/assets/colab-badge.svg\" alt=\"Open In Colab\"/></a>"
      ]
    },
    {
      "cell_type": "markdown",
      "source": [
        "Object oriented programming is a paradigm based on concepts of objects which can encapsulate data and behaviour.\n",
        "\n",
        "Below are the key concepts of oop with explanations involving **classes** and **objects**.\n",
        "\n",
        "___"
      ],
      "metadata": {
        "id": "AkSme6VOUSI1"
      }
    },
    {
      "cell_type": "markdown",
      "source": [
        "**1. Class**\n",
        "\n",
        "A class is a blueprint or template for creating objects.It defines properties(attributes) and methods (functions) that the object created from class will have."
      ],
      "metadata": {
        "id": "ziIGMrBKUzEL"
      }
    },
    {
      "cell_type": "code",
      "execution_count": 4,
      "metadata": {
        "id": "_JB0X7ncULiw"
      },
      "outputs": [],
      "source": [
        "class Car:\n",
        "  #attributes\n",
        "  brand = \"Tooyota\"\n",
        "  color = \"Red\"\n",
        "\n",
        "  #Method Function\n",
        "  def start_engine(self):\n",
        "    print(\"Car is starting\")\n"
      ]
    },
    {
      "cell_type": "markdown",
      "source": [
        "**2. Object**\n",
        "\n",
        "An object is an instance of a class. It is created using the class blueprint and has its own copy of attributes and methods."
      ],
      "metadata": {
        "id": "dXhOPMQ1ahj0"
      }
    },
    {
      "cell_type": "code",
      "source": [
        "#Create an object of the car class\n",
        "my_car = Car()\n",
        "\n",
        "#Access attributes and methods\n",
        "\n",
        "print(my_car.brand)\n",
        "my_car.start_engine()"
      ],
      "metadata": {
        "colab": {
          "base_uri": "https://localhost:8080/"
        },
        "id": "Fc5s42Qqaveb",
        "outputId": "c9b5c211-6567-470f-e4f1-eae251193473"
      },
      "execution_count": 5,
      "outputs": [
        {
          "output_type": "stream",
          "name": "stdout",
          "text": [
            "Tooyota\n",
            "Car is starting\n"
          ]
        }
      ]
    },
    {
      "cell_type": "markdown",
      "source": [
        "# **3. Encapsulation**\n",
        "\n",
        "Encapsulation is the bundling of data and methods within a class and restricting access to some components using access modifiers. This ensures the internal workings of an object are hidden from the outside.\n",
        "\n",
        "**Public attributes:** Accessible everywhere.\n",
        "\n",
        "**Private attributes:** Prefixed with __ and accessed only within the class."
      ],
      "metadata": {
        "id": "08PZFCrXNTj5"
      }
    },
    {
      "cell_type": "code",
      "source": [
        "class BankAccount:\n",
        "  def __init__(self, balance):\n",
        "    self.__balance = balance\n",
        "\n",
        "  def deposit(self, amount):\n",
        "    self.__balance += amount\n",
        "\n",
        "  def get_balance(self):\n",
        "    return self.__balance\n",
        "\n",
        "accout = BankAccount(1000)\n",
        "print(accout.get_balance())\n",
        "accout.deposit(500)\n",
        "print(accout.get_balance())"
      ],
      "metadata": {
        "colab": {
          "base_uri": "https://localhost:8080/"
        },
        "id": "A3gNafKTNksl",
        "outputId": "d80dff21-6d47-4c3c-a109-537d5d2c2ebb"
      },
      "execution_count": 2,
      "outputs": [
        {
          "output_type": "stream",
          "name": "stdout",
          "text": [
            "1000\n",
            "1500\n"
          ]
        }
      ]
    },
    {
      "cell_type": "markdown",
      "source": [
        "# **4. Inheritance**\n",
        "\n",
        "Inheritance allows a class (child) to derive properties and methods from another class (parent). This promotes code reuse."
      ],
      "metadata": {
        "id": "4AJ5P5aqPTmZ"
      }
    },
    {
      "cell_type": "code",
      "source": [
        "class Vehicle:\n",
        "  def move(self):\n",
        "    print(\"Vehicle is moving\")\n",
        "\n",
        "class Car(Vehicle):\n",
        "  def start_engine(self):\n",
        "    print(\"Car is starting\")\n",
        "\n",
        "my_car = Car()\n",
        "my_car.move()\n",
        "my_car.start_engine()"
      ],
      "metadata": {
        "colab": {
          "base_uri": "https://localhost:8080/"
        },
        "id": "fpNWn1V0PXyy",
        "outputId": "908f072b-87a8-4f44-e62f-cafe24c0e1d4"
      },
      "execution_count": 3,
      "outputs": [
        {
          "output_type": "stream",
          "name": "stdout",
          "text": [
            "Vehicle is moving\n",
            "Car is starting\n"
          ]
        }
      ]
    },
    {
      "cell_type": "markdown",
      "source": [
        "# **5. Polymorphism**\n",
        "\n",
        "Polymorphism allows objects of different classes to be treated as objects of a common parent class. This is achieved using method overriding."
      ],
      "metadata": {
        "id": "FJcf_CTMP5II"
      }
    },
    {
      "cell_type": "code",
      "source": [
        "class Animal:\n",
        "  def speak(self):\n",
        "      print(\"Animal speaks\")\n",
        "class Dog(Animal):\n",
        "  def speak(self):\n",
        "    print(\"Dog barks\")\n",
        "\n",
        "class Cat(Animal):\n",
        "  def speak(self):\n",
        "    print(\"Cat meows\")\n",
        "\n",
        "#usage\n",
        "animals = [Dog(), Cat()]\n",
        "for animal in animals:\n",
        "   animal.speak()"
      ],
      "metadata": {
        "colab": {
          "base_uri": "https://localhost:8080/"
        },
        "id": "eNQjPPiiQEZv",
        "outputId": "84b7ff64-9d13-47f2-dc50-e12a52b640de"
      },
      "execution_count": 6,
      "outputs": [
        {
          "output_type": "stream",
          "name": "stdout",
          "text": [
            "Dog barks\n",
            "Cat meows\n"
          ]
        }
      ]
    },
    {
      "cell_type": "markdown",
      "source": [
        "# **6. Abstraction**\n",
        "\n",
        "Abstraction hides implementation details and shows only the necessary features of an object. In Python, it is implemented using abstract base classes."
      ],
      "metadata": {
        "id": "0O_WWTgmQ8Gt"
      }
    },
    {
      "cell_type": "code",
      "source": [
        "from abc import ABC, abstractmethod\n",
        "\n",
        "class Shape(ABC):\n",
        "    @abstractmethod\n",
        "    def area(self):\n",
        "        pass\n",
        "\n",
        "class Rectangle(Shape):\n",
        "    def __init__(self, width, height):\n",
        "        self.width = width\n",
        "        self.height = height\n",
        "\n",
        "    def area(self):\n",
        "        return self.width * self.height\n",
        "\n",
        "# Usage\n",
        "rect = Rectangle(5, 10)\n",
        "print(rect.area())  # Output: 50\n"
      ],
      "metadata": {
        "colab": {
          "base_uri": "https://localhost:8080/"
        },
        "id": "ODHWc75dRC6M",
        "outputId": "00f469b8-999d-4536-ab0f-e88ef3a386bb"
      },
      "execution_count": 7,
      "outputs": [
        {
          "output_type": "stream",
          "name": "stdout",
          "text": [
            "50\n"
          ]
        }
      ]
    },
    {
      "cell_type": "markdown",
      "source": [
        "# **7. Association, Aggregation, and Composition**\n",
        "\n",
        "These are relationships between classes:\n",
        "\n",
        "Association: A general relationship between two classes.\n",
        "\n",
        "Aggregation: A \"has-a\" relationship where the lifetime of the part is independent of the whole.\n",
        "\n",
        "Composition: A \"has-a\" relationship where the lifetime of the part depends on the whole."
      ],
      "metadata": {
        "id": "WhplaNr3RPV9"
      }
    },
    {
      "cell_type": "code",
      "source": [
        "# Example of Composition\n",
        "class Engine:\n",
        "    def start(self):\n",
        "        print(\"Engine started\")\n",
        "\n",
        "class Car:\n",
        "    def __init__(self):\n",
        "        self.engine = Engine()  # Composition: Car \"has-a\" Engine\n",
        "\n",
        "    def start_car(self):\n",
        "        self.engine.start()\n",
        "\n",
        "# Usage\n",
        "my_car = Car()\n",
        "my_car.start_car()  # Output: Engine started\n"
      ],
      "metadata": {
        "colab": {
          "base_uri": "https://localhost:8080/"
        },
        "id": "SNWaz8EnRhAj",
        "outputId": "c33216a6-101a-4f90-cea8-63ddecf1be88"
      },
      "execution_count": 8,
      "outputs": [
        {
          "output_type": "stream",
          "name": "stdout",
          "text": [
            "Engine started\n"
          ]
        }
      ]
    },
    {
      "cell_type": "markdown",
      "source": [
        "# **Magic Methods in Python**\n",
        "\n",
        "Magic methods (also called dunder methods due to their double underscores) are special methods in Python classes that start and end with __. They allow customization of built-in operations for objects, such as addition, string representation, or iteration.\n",
        "\n",
        "**Examples of Common Magic Methods:**\n",
        "\n",
        "Initialization (__init__)\n",
        "Called when an object is instantiated.\n",
        "\n",
        "\n"
      ],
      "metadata": {
        "id": "7oICCJqHTide"
      }
    },
    {
      "cell_type": "code",
      "source": [
        "class Person:\n",
        "    def __init__(self, name,age):\n",
        "        self.name = name\n",
        "        self.age = age\n",
        "\n",
        "p = Person(\"Alice\", 30)\n",
        "print(p.name)\n",
        "print(p.age)\n",
        "\n",
        "\n",
        "\n",
        "tannu = Person(\"Tannu\", 22)\n",
        "print(tannu.name)\n",
        "print(tannu.age)"
      ],
      "metadata": {
        "colab": {
          "base_uri": "https://localhost:8080/"
        },
        "id": "CB4Ty05xT2x9",
        "outputId": "5de2083d-6b1c-48be-fedf-71f322d76d8e"
      },
      "execution_count": 12,
      "outputs": [
        {
          "output_type": "stream",
          "name": "stdout",
          "text": [
            "Alice\n",
            "30\n",
            "Tannu\n",
            "22\n"
          ]
        }
      ]
    },
    {
      "cell_type": "markdown",
      "source": [
        "**String Representation (__str__, __repr__)**\n",
        "\n",
        "Defines how an object is represented as a string."
      ],
      "metadata": {
        "id": "C_nUCxfoV0ca"
      }
    },
    {
      "cell_type": "code",
      "source": [
        "class Person:\n",
        "    def __init__(self, name, age):\n",
        "        self.name = name\n",
        "        self.age = age\n",
        "\n",
        "    def __str__(self):\n",
        "        return f\"{self.name}, {self.age} years old\"\n",
        "\n",
        "p = Person(\"Alice\", 30)\n",
        "print(p)  # Output: Alice, 30 years old\n"
      ],
      "metadata": {
        "colab": {
          "base_uri": "https://localhost:8080/"
        },
        "id": "KTeaDJX9Wrm1",
        "outputId": "d23e61f7-7a40-4a25-a0f3-d6e3e8f3bd2d"
      },
      "execution_count": 13,
      "outputs": [
        {
          "output_type": "stream",
          "name": "stdout",
          "text": [
            "Alice, 30 years old\n"
          ]
        }
      ]
    },
    {
      "cell_type": "markdown",
      "source": [
        "**Arithmetic Operations (__add__, __sub__, etc.)**\n",
        "\n",
        "Used to implement operator overloading."
      ],
      "metadata": {
        "id": "4HIFOJacW82H"
      }
    },
    {
      "cell_type": "code",
      "source": [
        "class Point:\n",
        "    def __init__(self, x, y):\n",
        "        self.x = x\n",
        "        self.y = y\n",
        "\n",
        "    def __add__(self, other):\n",
        "        return Point(self.x + other.x, self.y + other.y)\n",
        "\n",
        "    def __str__(self):\n",
        "        return f\"({self.x}, {self.y})\"\n",
        "\n",
        "p1 = Point(1, 2)\n",
        "p2 = Point(3, 4)\n",
        "print(p1 + p2)  # Output: (4, 6)\n"
      ],
      "metadata": {
        "colab": {
          "base_uri": "https://localhost:8080/"
        },
        "id": "8gxVxzhgW_ht",
        "outputId": "fd1005d9-bdb3-4dc4-c684-34655c785738"
      },
      "execution_count": 14,
      "outputs": [
        {
          "output_type": "stream",
          "name": "stdout",
          "text": [
            "(4, 6)\n"
          ]
        }
      ]
    },
    {
      "cell_type": "markdown",
      "source": [
        "**Comparison (__eq__, __lt__, etc.)**\n",
        "\n",
        "Customize comparison between objects."
      ],
      "metadata": {
        "id": "uQqb8MB9XhYE"
      }
    },
    {
      "cell_type": "code",
      "source": [
        "class Book:\n",
        "    def __init__(self, title, pages):\n",
        "        self.title = title\n",
        "        self.pages = pages\n",
        "\n",
        "    def __lt__(self, other):\n",
        "        return self.pages < other.pages\n",
        "\n",
        "b1 = Book(\"Book A\", 200)\n",
        "b2 = Book(\"Book B\", 300)\n",
        "print(b1 < b2)  # Output: True\n"
      ],
      "metadata": {
        "colab": {
          "base_uri": "https://localhost:8080/"
        },
        "id": "eBpzTeiKXlg8",
        "outputId": "703876cb-cce2-47c3-ef46-778875cbf501"
      },
      "execution_count": 15,
      "outputs": [
        {
          "output_type": "stream",
          "name": "stdout",
          "text": [
            "True\n"
          ]
        }
      ]
    },
    {
      "cell_type": "markdown",
      "source": [
        "**Callable Objects (__call__)**\n",
        "\n",
        "Allows an object to be called like a function.\n",
        "\n",
        "\n"
      ],
      "metadata": {
        "id": "w4VVOPSqXwnz"
      }
    },
    {
      "cell_type": "code",
      "source": [
        "class Multiplier:\n",
        "    def __init__(self, factor):\n",
        "        self.factor = factor\n",
        "\n",
        "    def __call__(self, x):\n",
        "        return x * self.factor\n",
        "\n",
        "double = Multiplier(2)\n",
        "print(double(5))  # Output: 10\n"
      ],
      "metadata": {
        "colab": {
          "base_uri": "https://localhost:8080/"
        },
        "id": "cz0YhBkGX2WD",
        "outputId": "c252da9a-8d10-4a78-a98c-bf20bbdb8379"
      },
      "execution_count": 16,
      "outputs": [
        {
          "output_type": "stream",
          "name": "stdout",
          "text": [
            "10\n"
          ]
        }
      ]
    },
    {
      "cell_type": "markdown",
      "source": [
        "**Operator Overloading**\n",
        "\n",
        "Operator overloading allows the redefinition of built-in operators for custom objects using magic methods. Examples include +, -, *, and comparison operators."
      ],
      "metadata": {
        "id": "jSc27eSkX9vr"
      }
    },
    {
      "cell_type": "code",
      "source": [
        "class Vector:\n",
        "    def __init__(self, x, y):\n",
        "        self.x = x\n",
        "        self.y = y\n",
        "\n",
        "    def __add__(self, other):\n",
        "        return Vector(self.x + other.x, self.y + other.y)\n",
        "\n",
        "    def __sub__(self, other):\n",
        "        return Vector(self.x - other.x, self.y - other.y)\n",
        "\n",
        "    def __str__(self):\n",
        "        return f\"({self.x}, {self.y})\"\n",
        "\n",
        "v1 = Vector(2, 3)\n",
        "v2 = Vector(4, 5)\n",
        "\n",
        "print(v1 + v2)  # Output: (6, 8)\n",
        "print(v1 - v2)  # Output: (-2, -2)\n"
      ],
      "metadata": {
        "colab": {
          "base_uri": "https://localhost:8080/"
        },
        "id": "_Kq_8W0uYCRj",
        "outputId": "3deb48c3-486a-4a7b-bea4-10eb3ad5316c"
      },
      "execution_count": 17,
      "outputs": [
        {
          "output_type": "stream",
          "name": "stdout",
          "text": [
            "(6, 8)\n",
            "(-2, -2)\n"
          ]
        }
      ]
    },
    {
      "cell_type": "markdown",
      "source": [
        "# **Custom Exception Handling**\n",
        "\n",
        "Custom exceptions allow the creation of meaningful error messages specific to your application. This is done by inheriting from Python's built-in Exception class.\n",
        "\n",
        "Steps to Create and Use a Custom Exception:\n",
        "\n",
        "Define a custom exception by subclassing Exception.\n",
        "Optionally, override the __init__ and __str__ methods for custom behavior."
      ],
      "metadata": {
        "id": "nSIc_5LrYb64"
      }
    },
    {
      "cell_type": "code",
      "source": [
        "class InsufficientBalanceError(Exception):\n",
        "    def __init__(self, balance, amount):\n",
        "        self.balance = balance\n",
        "        self.amount = amount\n",
        "        super().__init__(f\"Attempted to withdraw {amount}, but balance is {balance}\")\n",
        "\n",
        "class BankAccount:\n",
        "    def __init__(self, balance):\n",
        "        self.balance = balance\n",
        "\n",
        "    def withdraw(self, amount):\n",
        "        if amount > self.balance:\n",
        "            raise InsufficientBalanceError(self.balance, amount)\n",
        "        self.balance -= amount\n",
        "        return self.balance\n",
        "\n",
        "# Usage\n",
        "try:\n",
        "    account = BankAccount(1000)\n",
        "    account.withdraw(1500)\n",
        "except InsufficientBalanceError as e:\n",
        "    print(f\"Error: {e}\")  # Output: Error: Attempted to withdraw 1500, but balance is 1000\n"
      ],
      "metadata": {
        "colab": {
          "base_uri": "https://localhost:8080/"
        },
        "id": "8ndRWJjSYq1H",
        "outputId": "c79a7947-cc9c-487d-d536-5555294e4553"
      },
      "execution_count": 18,
      "outputs": [
        {
          "output_type": "stream",
          "name": "stdout",
          "text": [
            "Error: Attempted to withdraw 1500, but balance is 1000\n"
          ]
        }
      ]
    },
    {
      "cell_type": "code",
      "source": [
        "try:\n",
        "    result = 10 / 2\n",
        "except ZeroDivisionError as e:\n",
        "    print(\"Error:\", e)\n",
        "else:\n",
        "    print(\"Result:\", result)  # Output: Result: 5.0\n",
        "finally:\n",
        "    print(\"Execution completed.\")  # Always executes\n"
      ],
      "metadata": {
        "colab": {
          "base_uri": "https://localhost:8080/"
        },
        "id": "jlg-Wut_Y1Vg",
        "outputId": "046c168c-7cbe-4b71-c8f4-cc2a4c374b83"
      },
      "execution_count": 19,
      "outputs": [
        {
          "output_type": "stream",
          "name": "stdout",
          "text": [
            "Result: 5.0\n",
            "Execution completed.\n"
          ]
        }
      ]
    }
  ]
}