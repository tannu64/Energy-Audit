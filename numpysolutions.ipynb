{
  "cells": [
    {
      "cell_type": "markdown",
      "metadata": {
        "id": "view-in-github",
        "colab_type": "text"
      },
      "source": [
        "<a href=\"https://colab.research.google.com/github/tannu64/Energy-Audit/blob/main/numpysolutions.ipynb\" target=\"_parent\"><img src=\"https://colab.research.google.com/assets/colab-badge.svg\" alt=\"Open In Colab\"/></a>"
      ]
    },
    {
      "cell_type": "markdown",
      "metadata": {
        "id": "mwVQu33DzCbw"
      },
      "source": [
        "# Module: NumPy Assignments\n",
        "## Lesson: NumPy\n",
        "### Assignment 1: Array Creation and Manipulation\n",
        "\n",
        "1. Create a NumPy array of shape (5, 5) filled with random integers between 1 and 20. Replace all the elements in the third column with 1."
      ],
      "id": "mwVQu33DzCbw"
    },
    {
      "cell_type": "code",
      "execution_count": 1,
      "metadata": {
        "colab": {
          "base_uri": "https://localhost:8080/"
        },
        "id": "UgFitu8BzCby",
        "outputId": "12fcd1b3-d130-41e0-92ff-d3cdecde777d"
      },
      "outputs": [
        {
          "output_type": "stream",
          "name": "stdout",
          "text": [
            "Original array:\n",
            "[[10 14  8 18 12]\n",
            " [18  8 10  8 14]\n",
            " [ 3 11  8 11  8]\n",
            " [14 13 17  7 15]\n",
            " [15 17 16  6  5]]\n",
            "Modified array:\n",
            "[[10 14  1 18 12]\n",
            " [18  8  1  8 14]\n",
            " [ 3 11  1 11  8]\n",
            " [14 13  1  7 15]\n",
            " [15 17  1  6  5]]\n"
          ]
        }
      ],
      "source": [
        "import numpy as np\n",
        "\n",
        "# Create a NumPy array of shape (5, 5) filled with random integers\n",
        "array = np.random.randint(1, 21, size=(5, 5))\n",
        "print(\"Original array:\")\n",
        "print(array)\n",
        "\n",
        "# Replace all the elements in the third column with 1\n",
        "array[:, 2] = 1\n",
        "print(\"Modified array:\")\n",
        "print(array)"
      ],
      "id": "UgFitu8BzCby"
    },
    {
      "cell_type": "markdown",
      "metadata": {
        "id": "T1GPI70yzCbz"
      },
      "source": [
        "2. Create a NumPy array of shape (4, 4) with values from 1 to 16. Replace the diagonal elements with 0."
      ],
      "id": "T1GPI70yzCbz"
    },
    {
      "cell_type": "code",
      "execution_count": 2,
      "metadata": {
        "colab": {
          "base_uri": "https://localhost:8080/"
        },
        "id": "LZYiltw4zCb0",
        "outputId": "6387668e-36ec-4bfc-db36-367ed4a39a73"
      },
      "outputs": [
        {
          "output_type": "stream",
          "name": "stdout",
          "text": [
            "Original array:\n",
            "[[ 1  2  3  4]\n",
            " [ 5  6  7  8]\n",
            " [ 9 10 11 12]\n",
            " [13 14 15 16]]\n",
            "Modified array:\n",
            "[[ 0  2  3  4]\n",
            " [ 5  0  7  8]\n",
            " [ 9 10  0 12]\n",
            " [13 14 15  0]]\n"
          ]
        }
      ],
      "source": [
        "# Create a NumPy array of shape (4, 4) with values from 1 to 16\n",
        "array = np.arange(1, 17).reshape((4, 4))\n",
        "print(\"Original array:\")\n",
        "print(array)\n",
        "\n",
        "# Replace the diagonal elements with 0\n",
        "np.fill_diagonal(array, 0)\n",
        "print(\"Modified array:\")\n",
        "print(array)"
      ],
      "id": "LZYiltw4zCb0"
    },
    {
      "cell_type": "markdown",
      "metadata": {
        "id": "QLWaBphZzCb0"
      },
      "source": [
        "### Assignment 2: Array Indexing and Slicing\n",
        "\n",
        "1. Create a NumPy array of shape (6, 6) with values from 1 to 36. Extract the sub-array consisting of the 3rd to 5th rows and 2nd to 4th columns."
      ],
      "id": "QLWaBphZzCb0"
    },
    {
      "cell_type": "code",
      "execution_count": 3,
      "metadata": {
        "colab": {
          "base_uri": "https://localhost:8080/"
        },
        "id": "X59BoyoZzCb0",
        "outputId": "a74612eb-862f-4045-f47a-f54565e02ed3"
      },
      "outputs": [
        {
          "output_type": "stream",
          "name": "stdout",
          "text": [
            "Original array:\n",
            "[[ 1  2  3  4  5  6]\n",
            " [ 7  8  9 10 11 12]\n",
            " [13 14 15 16 17 18]\n",
            " [19 20 21 22 23 24]\n",
            " [25 26 27 28 29 30]\n",
            " [31 32 33 34 35 36]]\n",
            "Sub-array:\n",
            "[[14 15 16]\n",
            " [20 21 22]\n",
            " [26 27 28]]\n"
          ]
        }
      ],
      "source": [
        "# Create a NumPy array of shape (6, 6) with values from 1 to 36\n",
        "array = np.arange(1, 37).reshape((6, 6))\n",
        "print(\"Original array:\")\n",
        "print(array)\n",
        "\n",
        "# Extract the sub-array\n",
        "sub_array = array[2:5, 1:4]\n",
        "print(\"Sub-array:\")\n",
        "print(sub_array)"
      ],
      "id": "X59BoyoZzCb0"
    },
    {
      "cell_type": "markdown",
      "metadata": {
        "id": "7QR8gdqezCb0"
      },
      "source": [
        "2. Create a NumPy array of shape (5, 5) with random integers. Extract the elements on the border."
      ],
      "id": "7QR8gdqezCb0"
    },
    {
      "cell_type": "code",
      "execution_count": 4,
      "metadata": {
        "colab": {
          "base_uri": "https://localhost:8080/"
        },
        "id": "eiRIgDYfzCb1",
        "outputId": "e6fbcc77-c076-4ef6-d29f-ee4f894a6f00"
      },
      "outputs": [
        {
          "output_type": "stream",
          "name": "stdout",
          "text": [
            "Original array:\n",
            "[[17 16 14 15 16]\n",
            " [19 18  9 14  3]\n",
            " [ 9  1 17  4  9]\n",
            " [ 5  2  2 15  6]\n",
            " [ 9  7 19  4 15]]\n",
            "Border elements:\n",
            "[17 16 14 15 16  9  7 19  4 15 19  9  5  3  9  6]\n"
          ]
        }
      ],
      "source": [
        "# Create a NumPy array of shape (5, 5) with random integers\n",
        "array = np.random.randint(1, 21, size=(5, 5))\n",
        "print(\"Original array:\")\n",
        "print(array)\n",
        "\n",
        "# Extract the elements on the border\n",
        "border_elements = np.concatenate((array[0, :], array[-1, :], array[1:-1, 0], array[1:-1, -1]))\n",
        "print(\"Border elements:\")\n",
        "print(border_elements)"
      ],
      "id": "eiRIgDYfzCb1"
    },
    {
      "cell_type": "markdown",
      "metadata": {
        "id": "JhY1P0R-zCb1"
      },
      "source": [
        "### Assignment 3: Array Operations\n",
        "\n",
        "1. Create two NumPy arrays of shape (3, 4) filled with random integers. Perform element-wise addition, subtraction, multiplication, and division."
      ],
      "id": "JhY1P0R-zCb1"
    },
    {
      "cell_type": "code",
      "execution_count": 5,
      "metadata": {
        "colab": {
          "base_uri": "https://localhost:8080/"
        },
        "id": "Qj_31qkGzCb1",
        "outputId": "06b4034d-afcb-4c5e-c87d-2a6a69f41544"
      },
      "outputs": [
        {
          "output_type": "stream",
          "name": "stdout",
          "text": [
            "Array 1:\n",
            "[[4 7 6 7]\n",
            " [1 3 2 7]\n",
            " [8 1 9 2]]\n",
            "Array 2:\n",
            "[[5 6 4 4]\n",
            " [6 7 2 3]\n",
            " [6 6 3 8]]\n",
            "Element-wise addition:\n",
            "[[ 9 13 10 11]\n",
            " [ 7 10  4 10]\n",
            " [14  7 12 10]]\n",
            "Element-wise subtraction:\n",
            "[[-1  1  2  3]\n",
            " [-5 -4  0  4]\n",
            " [ 2 -5  6 -6]]\n",
            "Element-wise multiplication:\n",
            "[[20 42 24 28]\n",
            " [ 6 21  4 21]\n",
            " [48  6 27 16]]\n",
            "Element-wise division:\n",
            "[[0.8        1.16666667 1.5        1.75      ]\n",
            " [0.16666667 0.42857143 1.         2.33333333]\n",
            " [1.33333333 0.16666667 3.         0.25      ]]\n"
          ]
        }
      ],
      "source": [
        "# Create two NumPy arrays of shape (3, 4) filled with random integers\n",
        "array1 = np.random.randint(1, 11, size=(3, 4))\n",
        "array2 = np.random.randint(1, 11, size=(3, 4))\n",
        "print(\"Array 1:\")\n",
        "print(array1)\n",
        "print(\"Array 2:\")\n",
        "print(array2)\n",
        "\n",
        "# Perform element-wise operations\n",
        "addition = array1 + array2\n",
        "subtraction = array1 - array2\n",
        "multiplication = array1 * array2\n",
        "division = array1 / array2\n",
        "\n",
        "print(\"Element-wise addition:\")\n",
        "print(addition)\n",
        "print(\"Element-wise subtraction:\")\n",
        "print(subtraction)\n",
        "print(\"Element-wise multiplication:\")\n",
        "print(multiplication)\n",
        "print(\"Element-wise division:\")\n",
        "print(division)"
      ],
      "id": "Qj_31qkGzCb1"
    },
    {
      "cell_type": "markdown",
      "metadata": {
        "id": "hOIQAuYlzCb2"
      },
      "source": [
        "2. Create a NumPy array of shape (4, 4) with values from 1 to 16. Compute the row-wise and column-wise sum."
      ],
      "id": "hOIQAuYlzCb2"
    },
    {
      "cell_type": "code",
      "execution_count": 6,
      "metadata": {
        "colab": {
          "base_uri": "https://localhost:8080/"
        },
        "id": "6J2GlO2JzCb2",
        "outputId": "18b99c37-726d-487f-eebe-1dcaceeebfbb"
      },
      "outputs": [
        {
          "output_type": "stream",
          "name": "stdout",
          "text": [
            "Original array:\n",
            "[[ 1  2  3  4]\n",
            " [ 5  6  7  8]\n",
            " [ 9 10 11 12]\n",
            " [13 14 15 16]]\n",
            "Row-wise sum:\n",
            "[10 26 42 58]\n",
            "Column-wise sum:\n",
            "[28 32 36 40]\n"
          ]
        }
      ],
      "source": [
        "# Create a NumPy array of shape (4, 4) with values from 1 to 16\n",
        "array = np.arange(1, 17).reshape((4, 4))\n",
        "print(\"Original array:\")\n",
        "print(array)\n",
        "\n",
        "# Compute the row-wise and column-wise sum\n",
        "row_sum = np.sum(array, axis=1)\n",
        "column_sum = np.sum(array, axis=0)\n",
        "\n",
        "print(\"Row-wise sum:\")\n",
        "print(row_sum)\n",
        "print(\"Column-wise sum:\")\n",
        "print(column_sum)"
      ],
      "id": "6J2GlO2JzCb2"
    },
    {
      "cell_type": "markdown",
      "metadata": {
        "id": "UFB0_J_1zCb2"
      },
      "source": [
        "### Assignment 4: Statistical Operations\n",
        "\n",
        "1. Create a NumPy array of shape (5, 5) filled with random integers. Compute the mean, median, standard deviation, and variance of the array."
      ],
      "id": "UFB0_J_1zCb2"
    },
    {
      "cell_type": "code",
      "execution_count": 7,
      "metadata": {
        "colab": {
          "base_uri": "https://localhost:8080/"
        },
        "id": "Xy3AFLZ7zCb3",
        "outputId": "75cb0c8e-3ab6-41cf-d04b-55f20924d1f2"
      },
      "outputs": [
        {
          "output_type": "stream",
          "name": "stdout",
          "text": [
            "Original array:\n",
            "[[ 2  3  3  4  2]\n",
            " [13  3 17  3  2]\n",
            " [20 20 15 20 14]\n",
            " [ 3  9  9  1  8]\n",
            " [ 3  9 12  3 14]]\n",
            "Mean: 8.48\n",
            "Median: 8.0\n",
            "Standard Deviation: 6.38823919401896\n",
            "Variance: 40.8096\n"
          ]
        }
      ],
      "source": [
        "# Create a NumPy array of shape (5, 5) filled with random integers\n",
        "array = np.random.randint(1, 21, size=(5, 5))\n",
        "print(\"Original array:\")\n",
        "print(array)\n",
        "\n",
        "# Compute the statistical values\n",
        "mean = np.mean(array)\n",
        "median = np.median(array)\n",
        "std_dev = np.std(array)\n",
        "variance = np.var(array)\n",
        "\n",
        "print(\"Mean:\", mean)\n",
        "print(\"Median:\", median)\n",
        "print(\"Standard Deviation:\", std_dev)\n",
        "print(\"Variance:\", variance)"
      ],
      "id": "Xy3AFLZ7zCb3"
    },
    {
      "cell_type": "markdown",
      "metadata": {
        "id": "b3uY4XxgzCb3"
      },
      "source": [
        "2. Create a NumPy array of shape (3, 3) with values from 1 to 9. Normalize the array (i.e., scale the values to have a mean of 0 and a standard deviation of 1)."
      ],
      "id": "b3uY4XxgzCb3"
    },
    {
      "cell_type": "code",
      "execution_count": 8,
      "metadata": {
        "colab": {
          "base_uri": "https://localhost:8080/"
        },
        "id": "sadvFnRLzCb3",
        "outputId": "af91add1-df00-4d57-da77-5e871c0f9ed2"
      },
      "outputs": [
        {
          "output_type": "stream",
          "name": "stdout",
          "text": [
            "Original array:\n",
            "[[1 2 3]\n",
            " [4 5 6]\n",
            " [7 8 9]]\n",
            "Normalized array:\n",
            "[[-1.54919334 -1.161895   -0.77459667]\n",
            " [-0.38729833  0.          0.38729833]\n",
            " [ 0.77459667  1.161895    1.54919334]]\n"
          ]
        }
      ],
      "source": [
        "# Create a NumPy array of shape (3, 3) with values from 1 to 9\n",
        "array = np.arange(1, 10).reshape((3, 3))\n",
        "print(\"Original array:\")\n",
        "print(array)\n",
        "\n",
        "# Normalize the array\n",
        "mean = np.mean(array)\n",
        "std_dev = np.std(array)\n",
        "normalized_array = (array - mean) / std_dev\n",
        "\n",
        "print(\"Normalized array:\")\n",
        "print(normalized_array)"
      ],
      "id": "sadvFnRLzCb3"
    },
    {
      "cell_type": "markdown",
      "metadata": {
        "id": "wbFdqagHzCb3"
      },
      "source": [
        "### Assignment 5: Broadcasting\n",
        "\n",
        "1. Create a NumPy array of shape (3, 3) filled with random integers. Add a 1D array of shape (3,) to each row of the 2D array using broadcasting."
      ],
      "id": "wbFdqagHzCb3"
    },
    {
      "cell_type": "code",
      "execution_count": 9,
      "metadata": {
        "colab": {
          "base_uri": "https://localhost:8080/"
        },
        "id": "OoaseO7ezCb3",
        "outputId": "44819553-09f5-48b4-c1d9-ee0767aae3cd"
      },
      "outputs": [
        {
          "output_type": "stream",
          "name": "stdout",
          "text": [
            "Original array:\n",
            "[[ 4  9  8]\n",
            " [ 2  6  1]\n",
            " [ 9 10  6]]\n",
            "1D array:\n",
            "[9 3 4]\n",
            "Resulting array:\n",
            "[[13 12 12]\n",
            " [11  9  5]\n",
            " [18 13 10]]\n"
          ]
        }
      ],
      "source": [
        "# Create a NumPy array of shape (3, 3) filled with random integers\n",
        "array = np.random.randint(1, 11, size=(3, 3))\n",
        "row_array = np.random.randint(1, 11, size=(3,))\n",
        "print(\"Original array:\")\n",
        "print(array)\n",
        "print(\"1D array:\")\n",
        "print(row_array)\n",
        "\n",
        "# Add the 1D array to each row of the 2D array using broadcasting\n",
        "result = array + row_array\n",
        "print(\"Resulting array:\")\n",
        "print(result)"
      ],
      "id": "OoaseO7ezCb3"
    },
    {
      "cell_type": "markdown",
      "metadata": {
        "id": "DEwf2KcFzCb4"
      },
      "source": [
        "2. Create a NumPy array of shape (4, 4) filled with random integers. Subtract a 1D array of shape (4,) from each column of the 2D array using broadcasting."
      ],
      "id": "DEwf2KcFzCb4"
    },
    {
      "cell_type": "code",
      "execution_count": null,
      "metadata": {
        "id": "kNdq_spGzCb4"
      },
      "outputs": [],
      "source": [
        "# Create a NumPy array of shape (4, 4) filled with random integers\n",
        "array = np.random.randint(1, 11, size=(4, 4))\n",
        "column_array = np.random.randint(1, 11, size=(4,))\n",
        "print(\"Original array:\")\n",
        "print(array)\n",
        "print(\"1D array:\")\n",
        "print(column_array)\n",
        "\n",
        "# Subtract the 1D array from each column of the 2D array using broadcasting\n",
        "result = array - column_array[:, np.newaxis]\n",
        "print(\"Resulting array:\")\n",
        "print(result)"
      ],
      "id": "kNdq_spGzCb4"
    },
    {
      "cell_type": "markdown",
      "metadata": {
        "id": "-vu69X3wzCb4"
      },
      "source": [
        "### Assignment 6: Linear Algebra\n",
        "\n",
        "1. Create a NumPy array of shape (3, 3) representing a matrix. Compute its determinant, inverse, and eigenvalues."
      ],
      "id": "-vu69X3wzCb4"
    },
    {
      "cell_type": "code",
      "execution_count": 10,
      "metadata": {
        "colab": {
          "base_uri": "https://localhost:8080/"
        },
        "id": "3oJbMqL-zCb4",
        "outputId": "d75af5ed-4e6a-485d-a522-bad032e4de97"
      },
      "outputs": [
        {
          "output_type": "stream",
          "name": "stdout",
          "text": [
            "Original matrix:\n",
            "[[ 8  6  5]\n",
            " [10  4  5]\n",
            " [ 8  8 10]]\n",
            "Determinant: -120.00000000000009\n",
            "Inverse:\n",
            "[[-4.44089210e-17  1.66666667e-01 -8.33333333e-02]\n",
            " [ 5.00000000e-01 -3.33333333e-01 -8.33333333e-02]\n",
            " [-4.00000000e-01  1.33333333e-01  2.33333333e-01]]\n",
            "Eigenvalues: [21.16515139  2.83484861 -2.        ]\n"
          ]
        }
      ],
      "source": [
        "# Create a NumPy array of shape (3, 3) representing a matrix\n",
        "matrix = np.random.randint(1, 11, size=(3, 3))\n",
        "print(\"Original matrix:\")\n",
        "print(matrix)\n",
        "\n",
        "# Compute the determinant\n",
        "determinant = np.linalg.det(matrix)\n",
        "print(\"Determinant:\", determinant)\n",
        "\n",
        "# Compute the inverse\n",
        "inverse = np.linalg.inv(matrix)\n",
        "print(\"Inverse:\")\n",
        "print(inverse)\n",
        "\n",
        "# Compute the eigenvalues\n",
        "eigenvalues = np.linalg.eigvals(matrix)\n",
        "print(\"Eigenvalues:\", eigenvalues)"
      ],
      "id": "3oJbMqL-zCb4"
    },
    {
      "cell_type": "markdown",
      "metadata": {
        "id": "RL4y0mE-zCb5"
      },
      "source": [
        "2. Create two NumPy arrays of shape (2, 3) and (3, 2). Perform matrix multiplication on these arrays."
      ],
      "id": "RL4y0mE-zCb5"
    },
    {
      "cell_type": "code",
      "execution_count": 11,
      "metadata": {
        "colab": {
          "base_uri": "https://localhost:8080/"
        },
        "id": "tXHnZ5ZFzCb5",
        "outputId": "6a55a746-1ffd-4139-a1a1-276ac7a0b573"
      },
      "outputs": [
        {
          "output_type": "stream",
          "name": "stdout",
          "text": [
            "Array 1:\n",
            "[[ 1  9  3]\n",
            " [10  2  2]]\n",
            "Array 2:\n",
            "[[8 2]\n",
            " [6 4]\n",
            " [5 5]]\n",
            "Matrix multiplication result:\n",
            "[[ 77  53]\n",
            " [102  38]]\n"
          ]
        }
      ],
      "source": [
        "# Create two NumPy arrays of shape (2, 3) and (3, 2)\n",
        "array1 = np.random.randint(1, 11, size=(2, 3))\n",
        "array2 = np.random.randint(1, 11, size=(3, 2))\n",
        "print(\"Array 1:\")\n",
        "print(array1)\n",
        "print(\"Array 2:\")\n",
        "print(array2)\n",
        "\n",
        "# Perform matrix multiplication\n",
        "result = np.dot(array1, array2)\n",
        "print(\"Matrix multiplication result:\")\n",
        "print(result)"
      ],
      "id": "tXHnZ5ZFzCb5"
    },
    {
      "cell_type": "markdown",
      "metadata": {
        "id": "kHqeaWU7zCb5"
      },
      "source": [
        "### Assignment 7: Advanced Array Manipulation\n",
        "\n",
        "1. Create a NumPy array of shape (3, 3) with values from 1 to 9. Reshape the array to shape (1, 9) and then to shape (9, 1)."
      ],
      "id": "kHqeaWU7zCb5"
    },
    {
      "cell_type": "code",
      "execution_count": 12,
      "metadata": {
        "colab": {
          "base_uri": "https://localhost:8080/"
        },
        "id": "S5Vl-CWGzCb5",
        "outputId": "c10e99a3-8918-451f-dc04-61de4ab5bd49"
      },
      "outputs": [
        {
          "output_type": "stream",
          "name": "stdout",
          "text": [
            "Original array:\n",
            "[[1 2 3]\n",
            " [4 5 6]\n",
            " [7 8 9]]\n",
            "Reshaped array (1, 9):\n",
            "[[1 2 3 4 5 6 7 8 9]]\n",
            "Reshaped array (9, 1):\n",
            "[[1]\n",
            " [2]\n",
            " [3]\n",
            " [4]\n",
            " [5]\n",
            " [6]\n",
            " [7]\n",
            " [8]\n",
            " [9]]\n"
          ]
        }
      ],
      "source": [
        "# Create a NumPy array of shape (3, 3) with values from 1 to 9\n",
        "array = np.arange(1, 10).reshape((3, 3))\n",
        "print(\"Original array:\")\n",
        "print(array)\n",
        "\n",
        "# Reshape the array to shape (1, 9)\n",
        "reshaped_array_1 = array.reshape((1, 9))\n",
        "print(\"Reshaped array (1, 9):\")\n",
        "print(reshaped_array_1)\n",
        "\n",
        "# Reshape the array to shape (9, 1)\n",
        "reshaped_array_2 = reshaped_array_1.reshape((9, 1))\n",
        "print(\"Reshaped array (9, 1):\")\n",
        "print(reshaped_array_2)"
      ],
      "id": "S5Vl-CWGzCb5"
    },
    {
      "cell_type": "markdown",
      "metadata": {
        "id": "6YqSvifmzCb5"
      },
      "source": [
        "2. Create a NumPy array of shape (5, 5) filled with random integers. Flatten the array and then reshape it back to (5, 5)."
      ],
      "id": "6YqSvifmzCb5"
    },
    {
      "cell_type": "code",
      "execution_count": 13,
      "metadata": {
        "colab": {
          "base_uri": "https://localhost:8080/"
        },
        "id": "5drT5ysFzCb6",
        "outputId": "d636dd4b-526f-42ee-b722-bbfc9c69ab8b"
      },
      "outputs": [
        {
          "output_type": "stream",
          "name": "stdout",
          "text": [
            "Original array:\n",
            "[[20  2  1 11 10]\n",
            " [ 1 10 13 13  2]\n",
            " [20  1  7 11 19]\n",
            " [14  7 11  8 15]\n",
            " [18 15  7 13  9]]\n",
            "Flattened array:\n",
            "[20  2  1 11 10  1 10 13 13  2 20  1  7 11 19 14  7 11  8 15 18 15  7 13\n",
            "  9]\n",
            "Reshaped array:\n",
            "[[20  2  1 11 10]\n",
            " [ 1 10 13 13  2]\n",
            " [20  1  7 11 19]\n",
            " [14  7 11  8 15]\n",
            " [18 15  7 13  9]]\n"
          ]
        }
      ],
      "source": [
        "# Create a NumPy array of shape (5, 5) filled with random integers\n",
        "array = np.random.randint(1, 21, size=(5, 5))\n",
        "print(\"Original array:\")\n",
        "print(array)\n",
        "\n",
        "# Flatten the array\n",
        "flattened_array = array.flatten()\n",
        "print(\"Flattened array:\")\n",
        "print(flattened_array)\n",
        "\n",
        "# Reshape the array back to (5, 5)\n",
        "reshaped_array = flattened_array.reshape((5, 5))\n",
        "print(\"Reshaped array:\")\n",
        "print(reshaped_array)"
      ],
      "id": "5drT5ysFzCb6"
    },
    {
      "cell_type": "markdown",
      "metadata": {
        "id": "ljlN_xEOzCb6"
      },
      "source": [
        "### Assignment 8: Fancy Indexing and Boolean Indexing\n",
        "\n",
        "1. Create a NumPy array of shape (5, 5) filled with random integers. Use fancy indexing to extract the elements at the corners of the array."
      ],
      "id": "ljlN_xEOzCb6"
    },
    {
      "cell_type": "code",
      "execution_count": 14,
      "metadata": {
        "colab": {
          "base_uri": "https://localhost:8080/"
        },
        "id": "y-IfTmnDzCb6",
        "outputId": "5c7a2e0e-afb8-4b03-fd9d-5dbc598f0fc1"
      },
      "outputs": [
        {
          "output_type": "stream",
          "name": "stdout",
          "text": [
            "Original array:\n",
            "[[16 17 20 18  9]\n",
            " [19  2 14 19  2]\n",
            " [11 12  5 15 11]\n",
            " [ 4 13  3 13 18]\n",
            " [11 17 14  6  5]]\n",
            "Corner elements:\n",
            "[16  9 11  5]\n"
          ]
        }
      ],
      "source": [
        "# Create a NumPy array of shape (5, 5) filled with random integers\n",
        "array = np.random.randint(1, 21, size=(5, 5))\n",
        "print(\"Original array:\")\n",
        "print(array)\n",
        "\n",
        "# Use fancy indexing to extract the elements at the corners of the array\n",
        "corners = array[[0, 0, -1, -1], [0, -1, 0, -1]]\n",
        "print(\"Corner elements:\")\n",
        "print(corners)"
      ],
      "id": "y-IfTmnDzCb6"
    },
    {
      "cell_type": "markdown",
      "metadata": {
        "id": "U60PynVFzCb6"
      },
      "source": [
        "2. Create a NumPy array of shape (4, 4) filled with random integers. Use boolean indexing to set all elements greater than 10 to 10."
      ],
      "id": "U60PynVFzCb6"
    },
    {
      "cell_type": "code",
      "execution_count": 15,
      "metadata": {
        "colab": {
          "base_uri": "https://localhost:8080/"
        },
        "id": "fwK2bYZMzCb6",
        "outputId": "cbd02e72-9439-4f73-e160-7c3df071415e"
      },
      "outputs": [
        {
          "output_type": "stream",
          "name": "stdout",
          "text": [
            "Original array:\n",
            "[[ 7  2  3 20]\n",
            " [ 1 13  6  1]\n",
            " [17 20 16 11]\n",
            " [ 8  3  4 10]]\n",
            "Modified array:\n",
            "[[ 7  2  3 10]\n",
            " [ 1 10  6  1]\n",
            " [10 10 10 10]\n",
            " [ 8  3  4 10]]\n"
          ]
        }
      ],
      "source": [
        "# Create a NumPy array of shape (4, 4) filled with random integers\n",
        "array = np.random.randint(1, 21, size=(4, 4))\n",
        "print(\"Original array:\")\n",
        "print(array)\n",
        "\n",
        "# Use boolean indexing to set all elements greater than 10 to 10\n",
        "array[array > 10] = 10\n",
        "print(\"Modified array:\")\n",
        "print(array)"
      ],
      "id": "fwK2bYZMzCb6"
    },
    {
      "cell_type": "markdown",
      "metadata": {
        "id": "7ZHmBUuezCb7"
      },
      "source": [
        "### Assignment 9: Structured Arrays\n",
        "\n",
        "1. Create a structured array with fields 'name' (string), 'age' (integer), and 'weight' (float). Add some data and sort the array by age."
      ],
      "id": "7ZHmBUuezCb7"
    },
    {
      "cell_type": "code",
      "execution_count": 16,
      "metadata": {
        "colab": {
          "base_uri": "https://localhost:8080/"
        },
        "id": "WW29dUjYzCb7",
        "outputId": "e359903b-2bee-4635-9658-404c35989caa"
      },
      "outputs": [
        {
          "output_type": "stream",
          "name": "stdout",
          "text": [
            "Original array:\n",
            "[('Alice', 25, 55.5) ('Bob', 30, 85.3) ('Charlie', 20, 65.2)]\n",
            "Sorted array by age:\n",
            "[('Charlie', 20, 65.2) ('Alice', 25, 55.5) ('Bob', 30, 85.3)]\n"
          ]
        }
      ],
      "source": [
        "# Create a structured array with fields 'name', 'age', and 'weight'\n",
        "data_type = [('name', 'U10'), ('age', 'i4'), ('weight', 'f4')]\n",
        "data = np.array([('Alice', 25, 55.5), ('Bob', 30, 85.3), ('Charlie', 20, 65.2)], dtype=data_type)\n",
        "print(\"Original array:\")\n",
        "print(data)\n",
        "\n",
        "# Sort the array by age\n",
        "sorted_data = np.sort(data, order='age')\n",
        "print(\"Sorted array by age:\")\n",
        "print(sorted_data)"
      ],
      "id": "WW29dUjYzCb7"
    },
    {
      "cell_type": "markdown",
      "metadata": {
        "id": "5af2CEzBzCb7"
      },
      "source": [
        "2. Create a structured array with fields 'x' and 'y' (both integers). Add some data and compute the Euclidean distance between each pair of points."
      ],
      "id": "5af2CEzBzCb7"
    },
    {
      "cell_type": "code",
      "execution_count": 17,
      "metadata": {
        "colab": {
          "base_uri": "https://localhost:8080/"
        },
        "id": "Wkrhh32LzCb8",
        "outputId": "9700b640-7384-4052-c055-d571498803e0"
      },
      "outputs": [
        {
          "output_type": "stream",
          "name": "stdout",
          "text": [
            "Original array:\n",
            "[(1, 2) (3, 4) (5, 6)]\n",
            "Euclidean distances:\n",
            "[[0.         2.82842712 5.65685425]\n",
            " [2.82842712 0.         2.82842712]\n",
            " [5.65685425 2.82842712 0.        ]]\n"
          ]
        }
      ],
      "source": [
        "# Create a structured array with fields 'x' and 'y'\n",
        "data_type = [('x', 'i4'), ('y', 'i4')]\n",
        "data = np.array([(1, 2), (3, 4), (5, 6)], dtype=data_type)\n",
        "print(\"Original array:\")\n",
        "print(data)\n",
        "\n",
        "# Compute the Euclidean distance between each pair of points\n",
        "distances = np.sqrt((data['x'][:, np.newaxis] - data['x'])**2 + (data['y'][:, np.newaxis] - data['y'])**2)\n",
        "print(\"Euclidean distances:\")\n",
        "print(distances)"
      ],
      "id": "Wkrhh32LzCb8"
    },
    {
      "cell_type": "markdown",
      "metadata": {
        "id": "zyahCI9gzCb8"
      },
      "source": [
        "### Assignment 10: Masked Arrays\n",
        "\n",
        "1. Create a masked array of shape (4, 4) with random integers and mask the elements greater than 10. Compute the sum of the unmasked elements."
      ],
      "id": "zyahCI9gzCb8"
    },
    {
      "cell_type": "code",
      "execution_count": 18,
      "metadata": {
        "colab": {
          "base_uri": "https://localhost:8080/"
        },
        "id": "ZLzHIrZGzCb8",
        "outputId": "bb8b4f6e-cc9d-4c6f-f9f4-e7cf86a2ec40"
      },
      "outputs": [
        {
          "output_type": "stream",
          "name": "stdout",
          "text": [
            "Original array:\n",
            "[[ 4  2  8 19]\n",
            " [ 3 10  1  8]\n",
            " [ 2  7 11  7]\n",
            " [ 3  3  4 13]]\n",
            "Masked array:\n",
            "[[4 2 8 --]\n",
            " [3 10 1 8]\n",
            " [2 7 -- 7]\n",
            " [3 3 4 --]]\n",
            "Sum of unmasked elements: 62\n"
          ]
        }
      ],
      "source": [
        "import numpy.ma as ma\n",
        "\n",
        "# Create a masked array of shape (4, 4) with random integers\n",
        "array = np.random.randint(1, 21, size=(4, 4))\n",
        "masked_array = ma.masked_greater(array, 10)\n",
        "print(\"Original array:\")\n",
        "print(array)\n",
        "print(\"Masked array:\")\n",
        "print(masked_array)\n",
        "\n",
        "# Compute the sum of the unmasked elements\n",
        "sum_unmasked = masked_array.sum()\n",
        "print(\"Sum of unmasked elements:\", sum_unmasked)"
      ],
      "id": "ZLzHIrZGzCb8"
    },
    {
      "cell_type": "markdown",
      "metadata": {
        "id": "BzyKonCRzCb8"
      },
      "source": [
        "2. Create a masked array of shape (3, 3) with random integers and mask the diagonal elements. Replace the masked elements with the mean of the unmasked elements."
      ],
      "id": "BzyKonCRzCb8"
    },
    {
      "cell_type": "code",
      "execution_count": 19,
      "metadata": {
        "colab": {
          "base_uri": "https://localhost:8080/"
        },
        "id": "lX4wnwLSzCcD",
        "outputId": "5c0375a7-2be8-4bd6-9e03-c98c72881fa3"
      },
      "outputs": [
        {
          "output_type": "stream",
          "name": "stdout",
          "text": [
            "Original array:\n",
            "[[17 18 20]\n",
            " [ 8 18 19]\n",
            " [ 5  1 11]]\n",
            "Masked array:\n",
            "[[-- 18 20]\n",
            " [8 -- 19]\n",
            " [5 1 --]]\n",
            "Modified masked array:\n",
            "[[11 18 20]\n",
            " [ 8 11 19]\n",
            " [ 5  1 11]]\n"
          ]
        }
      ],
      "source": [
        "# Create a masked array of shape (3, 3) with random integers\n",
        "array = np.random.randint(1, 21, size=(3, 3))\n",
        "masked_array = ma.masked_array(array, mask=np.eye(3, dtype=bool))\n",
        "print(\"Original array:\")\n",
        "print(array)\n",
        "print(\"Masked array:\")\n",
        "print(masked_array)\n",
        "\n",
        "# Replace the masked elements with the mean of the unmasked elements\n",
        "mean_unmasked = masked_array.mean()\n",
        "masked_array = masked_array.filled(mean_unmasked)\n",
        "print(\"Modified masked array:\")\n",
        "print(masked_array)"
      ],
      "id": "lX4wnwLSzCcD"
    }
  ],
  "metadata": {
    "kernelspec": {
      "display_name": "Python 3",
      "language": "python",
      "name": "python3"
    },
    "language_info": {
      "codemirror_mode": {
        "name": "ipython",
        "version": 3
      },
      "file_extension": ".py",
      "mimetype": "text/x-python",
      "name": "python",
      "nbconvert_exporter": "python",
      "pygments_lexer": "ipython3",
      "version": "3.9.7"
    },
    "colab": {
      "provenance": [],
      "include_colab_link": true
    }
  },
  "nbformat": 4,
  "nbformat_minor": 5
}