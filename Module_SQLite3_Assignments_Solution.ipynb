{
  "cells": [
    {
      "cell_type": "markdown",
      "metadata": {
        "id": "view-in-github",
        "colab_type": "text"
      },
      "source": [
        "<a href=\"https://colab.research.google.com/github/tannu64/Energy-Audit/blob/main/Module_SQLite3_Assignments_Solution.ipynb\" target=\"_parent\"><img src=\"https://colab.research.google.com/assets/colab-badge.svg\" alt=\"Open In Colab\"/></a>"
      ]
    },
    {
      "cell_type": "markdown",
      "metadata": {
        "id": "Hfml90Jt-hQr"
      },
      "source": [
        "# Module: SQLite3 Assignments\n",
        "## Lesson: SQLite3\n",
        "### Assignment 1: Creating and Connecting to a Database\n",
        "\n",
        "1. Write a Python function to create a new SQLite3 database named `test.db`."
      ],
      "id": "Hfml90Jt-hQr"
    },
    {
      "cell_type": "code",
      "execution_count": 1,
      "metadata": {
        "colab": {
          "base_uri": "https://localhost:8080/"
        },
        "id": "lmViILKm-hQv",
        "outputId": "659bd7dc-ba05-42ba-8413-a45d05703abf"
      },
      "outputs": [
        {
          "output_type": "stream",
          "name": "stdout",
          "text": [
            "Database created and successfully connected.\n"
          ]
        }
      ],
      "source": [
        "import sqlite3\n",
        "\n",
        "def create_database():\n",
        "    conn = sqlite3.connect('test.db')\n",
        "    conn.close()\n",
        "    print(\"Database created and successfully connected.\")\n",
        "\n",
        "# Test the function\n",
        "create_database()"
      ],
      "id": "lmViILKm-hQv"
    },
    {
      "cell_type": "markdown",
      "metadata": {
        "id": "oMYgfSly-hQy"
      },
      "source": [
        "2. Write a Python function to create a table named `employees` with columns `id` (integer), `name` (text), `age` (integer), and `department` (text) in the `test.db` database."
      ],
      "id": "oMYgfSly-hQy"
    },
    {
      "cell_type": "code",
      "execution_count": 2,
      "metadata": {
        "colab": {
          "base_uri": "https://localhost:8080/"
        },
        "id": "lR5cPQEn-hQy",
        "outputId": "9ea104e5-1932-47c9-f4cf-5b8d5b674227"
      },
      "outputs": [
        {
          "output_type": "stream",
          "name": "stdout",
          "text": [
            "Table 'employees' created successfully.\n"
          ]
        }
      ],
      "source": [
        "def create_table():\n",
        "    conn = sqlite3.connect('test.db')\n",
        "    cursor = conn.cursor()\n",
        "    cursor.execute('''\n",
        "        CREATE TABLE IF NOT EXISTS employees (\n",
        "            id INTEGER PRIMARY KEY,\n",
        "            name TEXT NOT NULL,\n",
        "            age INTEGER,\n",
        "            department TEXT\n",
        "        )\n",
        "    ''')\n",
        "    conn.commit()\n",
        "    conn.close()\n",
        "    print(\"Table 'employees' created successfully.\")\n",
        "\n",
        "# Test the function\n",
        "create_table()"
      ],
      "id": "lR5cPQEn-hQy"
    },
    {
      "cell_type": "markdown",
      "metadata": {
        "id": "MGgWuCdI-hQz"
      },
      "source": [
        "### Assignment 2: Inserting Data\n",
        "\n",
        "1. Write a Python function to insert a new employee into the `employees` table."
      ],
      "id": "MGgWuCdI-hQz"
    },
    {
      "cell_type": "code",
      "execution_count": 3,
      "metadata": {
        "colab": {
          "base_uri": "https://localhost:8080/"
        },
        "id": "bljyQSjJ-hQ0",
        "outputId": "e9b13f4e-882b-440a-b40c-d0827cc61717"
      },
      "outputs": [
        {
          "output_type": "stream",
          "name": "stdout",
          "text": [
            "Employee inserted successfully.\n"
          ]
        }
      ],
      "source": [
        "def insert_employee(id, name, age, department):\n",
        "    conn = sqlite3.connect('test.db')\n",
        "    cursor = conn.cursor()\n",
        "    cursor.execute('''\n",
        "        INSERT INTO employees (id, name, age, department)\n",
        "        VALUES (?, ?, ?, ?)\n",
        "    ''', (id, name, age, department))\n",
        "    conn.commit()\n",
        "    conn.close()\n",
        "    print(\"Employee inserted successfully.\")\n",
        "\n",
        "# Test the function\n",
        "insert_employee(1, 'Alice', 30, 'HR')"
      ],
      "id": "bljyQSjJ-hQ0"
    },
    {
      "cell_type": "markdown",
      "metadata": {
        "id": "bEPFE_Ck-hQ0"
      },
      "source": [
        "2. Insert at least 5 different employees into the `employees` table."
      ],
      "id": "bEPFE_Ck-hQ0"
    },
    {
      "cell_type": "code",
      "execution_count": 4,
      "metadata": {
        "colab": {
          "base_uri": "https://localhost:8080/"
        },
        "id": "x_7f4ujl-hQ1",
        "outputId": "faa487a4-12e0-464d-b4ff-59d259e4d871"
      },
      "outputs": [
        {
          "output_type": "stream",
          "name": "stdout",
          "text": [
            "Employee inserted successfully.\n",
            "Employee inserted successfully.\n",
            "Employee inserted successfully.\n",
            "Employee inserted successfully.\n"
          ]
        }
      ],
      "source": [
        "# Insert 5 different employees\n",
        "insert_employee(2, 'Bob', 25, 'Engineering')\n",
        "insert_employee(3, 'Charlie', 28, 'Sales')\n",
        "insert_employee(4, 'David', 35, 'Marketing')\n",
        "insert_employee(5, 'Eve', 22, 'HR')"
      ],
      "id": "x_7f4ujl-hQ1"
    },
    {
      "cell_type": "markdown",
      "metadata": {
        "id": "1x2lGC1Z-hQ1"
      },
      "source": [
        "### Assignment 3: Querying Data\n",
        "\n",
        "1. Write a Python function to fetch and display all records from the `employees` table."
      ],
      "id": "1x2lGC1Z-hQ1"
    },
    {
      "cell_type": "code",
      "execution_count": 5,
      "metadata": {
        "colab": {
          "base_uri": "https://localhost:8080/"
        },
        "id": "fDZmzdli-hQ2",
        "outputId": "e0b41b90-e8f2-43fa-fddb-6de061b3ab0d"
      },
      "outputs": [
        {
          "output_type": "stream",
          "name": "stdout",
          "text": [
            "(1, 'Alice', 30, 'HR')\n",
            "(2, 'Bob', 25, 'Engineering')\n",
            "(3, 'Charlie', 28, 'Sales')\n",
            "(4, 'David', 35, 'Marketing')\n",
            "(5, 'Eve', 22, 'HR')\n"
          ]
        }
      ],
      "source": [
        "def fetch_all_employees():\n",
        "    conn = sqlite3.connect('test.db')\n",
        "    cursor = conn.cursor()\n",
        "    cursor.execute('SELECT * FROM employees')\n",
        "    records = cursor.fetchall()\n",
        "    conn.close()\n",
        "    for record in records:\n",
        "        print(record)\n",
        "\n",
        "# Test the function\n",
        "fetch_all_employees()"
      ],
      "id": "fDZmzdli-hQ2"
    },
    {
      "cell_type": "markdown",
      "metadata": {
        "id": "9h_PKqif-hQ2"
      },
      "source": [
        "2. Write a Python function to fetch and display all employees from a specific department."
      ],
      "id": "9h_PKqif-hQ2"
    },
    {
      "cell_type": "code",
      "execution_count": 6,
      "metadata": {
        "colab": {
          "base_uri": "https://localhost:8080/"
        },
        "id": "OnXMU12c-hQ3",
        "outputId": "d15ad1b5-0fc3-4386-acea-c4d684f3ff9f"
      },
      "outputs": [
        {
          "output_type": "stream",
          "name": "stdout",
          "text": [
            "(1, 'Alice', 30, 'HR')\n",
            "(5, 'Eve', 22, 'HR')\n"
          ]
        }
      ],
      "source": [
        "def fetch_employees_by_department(department):\n",
        "    conn = sqlite3.connect('test.db')\n",
        "    cursor = conn.cursor()\n",
        "    cursor.execute('SELECT * FROM employees WHERE department = ?', (department,))\n",
        "    records = cursor.fetchall()\n",
        "    conn.close()\n",
        "    for record in records:\n",
        "        print(record)\n",
        "\n",
        "# Test the function\n",
        "fetch_employees_by_department('HR')"
      ],
      "id": "OnXMU12c-hQ3"
    },
    {
      "cell_type": "markdown",
      "metadata": {
        "id": "anDADrjI-hQ3"
      },
      "source": [
        "### Assignment 4: Updating Data\n",
        "\n",
        "1. Write a Python function to update the department of an employee based on their `id`."
      ],
      "id": "anDADrjI-hQ3"
    },
    {
      "cell_type": "code",
      "execution_count": 7,
      "metadata": {
        "colab": {
          "base_uri": "https://localhost:8080/"
        },
        "id": "kZnHGeVP-hQ4",
        "outputId": "6c1e8c2d-0c79-4291-f89e-694f5a6d1da5"
      },
      "outputs": [
        {
          "output_type": "stream",
          "name": "stdout",
          "text": [
            "Employee department updated successfully.\n"
          ]
        }
      ],
      "source": [
        "def update_employee_department(employee_id, new_department):\n",
        "    conn = sqlite3.connect('test.db')\n",
        "    cursor = conn.cursor()\n",
        "    cursor.execute('''\n",
        "        UPDATE employees\n",
        "        SET department = ?\n",
        "        WHERE id = ?\n",
        "    ''', (new_department, employee_id))\n",
        "    conn.commit()\n",
        "    conn.close()\n",
        "    print(\"Employee department updated successfully.\")\n",
        "\n",
        "# Test the function\n",
        "update_employee_department(1, 'Finance')"
      ],
      "id": "kZnHGeVP-hQ4"
    },
    {
      "cell_type": "markdown",
      "metadata": {
        "id": "BvYH6HGW-hQ4"
      },
      "source": [
        "2. Update the department of at least 2 employees and display the updated records."
      ],
      "id": "BvYH6HGW-hQ4"
    },
    {
      "cell_type": "code",
      "execution_count": 8,
      "metadata": {
        "colab": {
          "base_uri": "https://localhost:8080/"
        },
        "id": "OYrcH7yD-hQ5",
        "outputId": "8c61b4f9-9e06-407c-9480-57d50489e6f1"
      },
      "outputs": [
        {
          "output_type": "stream",
          "name": "stdout",
          "text": [
            "Employee department updated successfully.\n",
            "Employee department updated successfully.\n",
            "(1, 'Alice', 30, 'Finance')\n",
            "(2, 'Bob', 25, 'Research')\n",
            "(3, 'Charlie', 28, 'Customer Support')\n",
            "(4, 'David', 35, 'Marketing')\n",
            "(5, 'Eve', 22, 'HR')\n"
          ]
        }
      ],
      "source": [
        "# Update the department of 2 employees\n",
        "update_employee_department(2, 'Research')\n",
        "update_employee_department(3, 'Customer Support')\n",
        "\n",
        "# Fetch and display all records\n",
        "fetch_all_employees()"
      ],
      "id": "OYrcH7yD-hQ5"
    },
    {
      "cell_type": "markdown",
      "metadata": {
        "id": "6q0UJiDP-hQ5"
      },
      "source": [
        "### Assignment 5: Deleting Data\n",
        "\n",
        "1. Write a Python function to delete an employee from the `employees` table based on their `id`."
      ],
      "id": "6q0UJiDP-hQ5"
    },
    {
      "cell_type": "code",
      "execution_count": 9,
      "metadata": {
        "colab": {
          "base_uri": "https://localhost:8080/"
        },
        "id": "8dfvH8MN-hQ5",
        "outputId": "349a4943-1de8-4ba6-cf28-84aa85031547"
      },
      "outputs": [
        {
          "output_type": "stream",
          "name": "stdout",
          "text": [
            "Employee deleted successfully.\n"
          ]
        }
      ],
      "source": [
        "def delete_employee(employee_id):\n",
        "    conn = sqlite3.connect('test.db')\n",
        "    cursor = conn.cursor()\n",
        "    cursor.execute('''\n",
        "        DELETE FROM employees\n",
        "        WHERE id = ?\n",
        "    ''', (employee_id,))\n",
        "    conn.commit()\n",
        "    conn.close()\n",
        "    print(\"Employee deleted successfully.\")\n",
        "\n",
        "# Test the function\n",
        "delete_employee(5)"
      ],
      "id": "8dfvH8MN-hQ5"
    },
    {
      "cell_type": "markdown",
      "metadata": {
        "id": "yCyH4QCK-hQ6"
      },
      "source": [
        "2. Delete at least 1 employee and display the remaining records."
      ],
      "id": "yCyH4QCK-hQ6"
    },
    {
      "cell_type": "code",
      "execution_count": 10,
      "metadata": {
        "colab": {
          "base_uri": "https://localhost:8080/"
        },
        "id": "4V_0iKFZ-hQ6",
        "outputId": "12640d19-8518-4ccf-f34d-608605997b8a"
      },
      "outputs": [
        {
          "output_type": "stream",
          "name": "stdout",
          "text": [
            "Employee deleted successfully.\n",
            "(1, 'Alice', 30, 'Finance')\n",
            "(2, 'Bob', 25, 'Research')\n",
            "(3, 'Charlie', 28, 'Customer Support')\n"
          ]
        }
      ],
      "source": [
        "# Delete an employee\n",
        "delete_employee(4)\n",
        "\n",
        "# Fetch and display all records\n",
        "fetch_all_employees()"
      ],
      "id": "4V_0iKFZ-hQ6"
    },
    {
      "cell_type": "markdown",
      "metadata": {
        "id": "5haRaBbY-hQ7"
      },
      "source": [
        "### Assignment 6: Advanced Queries\n",
        "\n",
        "1. Write a Python function to fetch and display employees older than a certain age."
      ],
      "id": "5haRaBbY-hQ7"
    },
    {
      "cell_type": "code",
      "execution_count": 11,
      "metadata": {
        "colab": {
          "base_uri": "https://localhost:8080/"
        },
        "id": "rBFaOGfL-hQ7",
        "outputId": "78562aa0-6eb1-48a8-c9dc-915067e9bf4a"
      },
      "outputs": [
        {
          "output_type": "stream",
          "name": "stdout",
          "text": [
            "(1, 'Alice', 30, 'Finance')\n",
            "(3, 'Charlie', 28, 'Customer Support')\n"
          ]
        }
      ],
      "source": [
        "def fetch_employees_older_than(age):\n",
        "    conn = sqlite3.connect('test.db')\n",
        "    cursor = conn.cursor()\n",
        "    cursor.execute('SELECT * FROM employees WHERE age > ?', (age,))\n",
        "    records = cursor.fetchall()\n",
        "    conn.close()\n",
        "    for record in records:\n",
        "        print(record)\n",
        "\n",
        "# Test the function\n",
        "fetch_employees_older_than(25)"
      ],
      "id": "rBFaOGfL-hQ7"
    },
    {
      "cell_type": "markdown",
      "metadata": {
        "id": "df-22ynD-hQ7"
      },
      "source": [
        "2. Write a Python function to fetch and display employees whose names start with a specific letter."
      ],
      "id": "df-22ynD-hQ7"
    },
    {
      "cell_type": "code",
      "execution_count": 12,
      "metadata": {
        "colab": {
          "base_uri": "https://localhost:8080/"
        },
        "id": "d7ONNUmJ-hQ7",
        "outputId": "9535452b-7042-4dde-88a3-4188516701e0"
      },
      "outputs": [
        {
          "output_type": "stream",
          "name": "stdout",
          "text": [
            "(1, 'Alice', 30, 'Finance')\n"
          ]
        }
      ],
      "source": [
        "def fetch_employees_name_starts_with(letter):\n",
        "    conn = sqlite3.connect('test.db')\n",
        "    cursor = conn.cursor()\n",
        "    cursor.execute('SELECT * FROM employees WHERE name LIKE ?', (letter + '%',))\n",
        "    records = cursor.fetchall()\n",
        "    conn.close()\n",
        "    for record in records:\n",
        "        print(record)\n",
        "\n",
        "# Test the function\n",
        "fetch_employees_name_starts_with('A')"
      ],
      "id": "d7ONNUmJ-hQ7"
    },
    {
      "cell_type": "markdown",
      "metadata": {
        "id": "XaYv1qXy-hQ8"
      },
      "source": [
        "### Assignment 7: Handling Transactions\n",
        "\n",
        "1. Write a Python function to insert multiple employees into the `employees` table in a single transaction. Ensure that if any insertion fails, none of the insertions are committed."
      ],
      "id": "XaYv1qXy-hQ8"
    },
    {
      "cell_type": "code",
      "execution_count": 13,
      "metadata": {
        "colab": {
          "base_uri": "https://localhost:8080/"
        },
        "id": "PvCPtgW6-hQ8",
        "outputId": "3b3c10c9-7836-4313-95fb-3f04b073f895"
      },
      "outputs": [
        {
          "output_type": "stream",
          "name": "stdout",
          "text": [
            "Error occurred, transaction rolled back.\n",
            "UNIQUE constraint failed: employees.id\n"
          ]
        }
      ],
      "source": [
        "def insert_multiple_employees(employees):\n",
        "    conn = sqlite3.connect('test.db')\n",
        "    cursor = conn.cursor()\n",
        "    try:\n",
        "        cursor.executemany('''\n",
        "            INSERT INTO employees (id, name, age, department)\n",
        "            VALUES (?, ?, ?, ?)\n",
        "        ''', employees)\n",
        "        conn.commit()\n",
        "        print(\"All employees inserted successfully.\")\n",
        "    except Exception as e:\n",
        "        conn.rollback()\n",
        "        print(\"Error occurred, transaction rolled back.\")\n",
        "        print(e)\n",
        "    finally:\n",
        "        conn.close()\n",
        "\n",
        "# Test the function with valid and invalid data\n",
        "employees = [\n",
        "    (6, 'Frank', 40, 'Finance'),\n",
        "    (7, 'Grace', 29, 'Engineering'),\n",
        "    (8, 'Hannah', 35, 'Marketing'),\n",
        "    (9, 'Ivan', 38, 'Sales'),\n",
        "    (6, 'Jack', 45, 'HR')  # Duplicate ID to cause an error\n",
        "]\n",
        "insert_multiple_employees(employees)"
      ],
      "id": "PvCPtgW6-hQ8"
    },
    {
      "cell_type": "markdown",
      "metadata": {
        "id": "p68M1Q-r-hQ8"
      },
      "source": [
        "2. Write a Python function to update the age of multiple employees in a single transaction. Ensure that if any update fails, none of the updates are committed."
      ],
      "id": "p68M1Q-r-hQ8"
    },
    {
      "cell_type": "code",
      "execution_count": 14,
      "metadata": {
        "colab": {
          "base_uri": "https://localhost:8080/"
        },
        "id": "MD0VFTYC-hQ8",
        "outputId": "247cc12a-ed57-4047-cc34-0a3b455f139a"
      },
      "outputs": [
        {
          "output_type": "stream",
          "name": "stdout",
          "text": [
            "All employee ages updated successfully.\n"
          ]
        }
      ],
      "source": [
        "def update_multiple_employees_ages(updates):\n",
        "    conn = sqlite3.connect('test.db')\n",
        "    cursor = conn.cursor()\n",
        "    try:\n",
        "        cursor.executemany('''\n",
        "            UPDATE employees\n",
        "            SET age = ?\n",
        "            WHERE id = ?\n",
        "        ''', updates)\n",
        "        conn.commit()\n",
        "        print(\"All employee ages updated successfully.\")\n",
        "    except Exception as e:\n",
        "        conn.rollback()\n",
        "        print(\"Error occurred, transaction rolled back.\")\n",
        "        print(e)\n",
        "    finally:\n",
        "        conn.close()\n",
        "\n",
        "# Test the function with valid and invalid data\n",
        "updates = [\n",
        "    (32, 1),\n",
        "    (26, 2),\n",
        "    (33, 3),\n",
        "    (41, 4),  # Non-existing ID to cause an error\n",
        "    (23, 5)\n",
        "]\n",
        "update_multiple_employees_ages(updates)"
      ],
      "id": "MD0VFTYC-hQ8"
    },
    {
      "cell_type": "markdown",
      "metadata": {
        "id": "j1gkU6hp-hQ8"
      },
      "source": [
        "### Assignment 8: Creating Relationships\n",
        "\n",
        "1. Create a new table named `departments` with columns `id` (integer) and `name` (text)."
      ],
      "id": "j1gkU6hp-hQ8"
    },
    {
      "cell_type": "code",
      "execution_count": 15,
      "metadata": {
        "colab": {
          "base_uri": "https://localhost:8080/"
        },
        "id": "Trmrlhex-hQ9",
        "outputId": "9753ae9c-c017-4260-ba85-12cfc04ed19c"
      },
      "outputs": [
        {
          "output_type": "stream",
          "name": "stdout",
          "text": [
            "Table 'departments' created successfully.\n"
          ]
        }
      ],
      "source": [
        "def create_departments_table():\n",
        "    conn = sqlite3.connect('test.db')\n",
        "    cursor = conn.cursor()\n",
        "    cursor.execute('''\n",
        "        CREATE TABLE IF NOT EXISTS departments (\n",
        "            id INTEGER PRIMARY KEY,\n",
        "            name TEXT NOT NULL\n",
        "        )\n",
        "    ''')\n",
        "    conn.commit()\n",
        "    conn.close()\n",
        "    print(\"Table 'departments' created successfully.\")\n",
        "\n",
        "# Test the function\n",
        "create_departments_table()"
      ],
      "id": "Trmrlhex-hQ9"
    },
    {
      "cell_type": "markdown",
      "metadata": {
        "id": "S-L8exMC-hQ9"
      },
      "source": [
        "2. Modify the `employees` table to include a foreign key referencing the `id` column in the `departments` table."
      ],
      "id": "S-L8exMC-hQ9"
    },
    {
      "cell_type": "code",
      "execution_count": 17,
      "metadata": {
        "colab": {
          "base_uri": "https://localhost:8080/",
          "height": 297
        },
        "id": "yqMB-gAv-hQ9",
        "outputId": "d4d4cb04-e749-4d7f-f7cc-3fa9bdf1aaf7"
      },
      "outputs": [
        {
          "output_type": "error",
          "ename": "Warning",
          "evalue": "You can only execute one statement at a time.",
          "traceback": [
            "\u001b[0;31m---------------------------------------------------------------------------\u001b[0m",
            "\u001b[0;31mWarning\u001b[0m                                   Traceback (most recent call last)",
            "\u001b[0;32m<ipython-input-17-05711c7e992f>\u001b[0m in \u001b[0;36m<cell line: 27>\u001b[0;34m()\u001b[0m\n\u001b[1;32m     25\u001b[0m \u001b[0;34m\u001b[0m\u001b[0m\n\u001b[1;32m     26\u001b[0m \u001b[0;31m# Test the function\u001b[0m\u001b[0;34m\u001b[0m\u001b[0;34m\u001b[0m\u001b[0m\n\u001b[0;32m---> 27\u001b[0;31m \u001b[0madd_department_foreign_key\u001b[0m\u001b[0;34m(\u001b[0m\u001b[0;34m)\u001b[0m\u001b[0;34m\u001b[0m\u001b[0;34m\u001b[0m\u001b[0m\n\u001b[0m",
            "\u001b[0;32m<ipython-input-17-05711c7e992f>\u001b[0m in \u001b[0;36madd_department_foreign_key\u001b[0;34m()\u001b[0m\n\u001b[1;32m      2\u001b[0m     \u001b[0mconn\u001b[0m \u001b[0;34m=\u001b[0m \u001b[0msqlite3\u001b[0m\u001b[0;34m.\u001b[0m\u001b[0mconnect\u001b[0m\u001b[0;34m(\u001b[0m\u001b[0;34m'test.db'\u001b[0m\u001b[0;34m)\u001b[0m\u001b[0;34m\u001b[0m\u001b[0;34m\u001b[0m\u001b[0m\n\u001b[1;32m      3\u001b[0m     \u001b[0mcursor\u001b[0m \u001b[0;34m=\u001b[0m \u001b[0mconn\u001b[0m\u001b[0;34m.\u001b[0m\u001b[0mcursor\u001b[0m\u001b[0;34m(\u001b[0m\u001b[0;34m)\u001b[0m\u001b[0;34m\u001b[0m\u001b[0;34m\u001b[0m\u001b[0m\n\u001b[0;32m----> 4\u001b[0;31m     cursor.execute('''\n\u001b[0m\u001b[1;32m      5\u001b[0m         \u001b[0mPRAGMA\u001b[0m \u001b[0mforeign_keys\u001b[0m\u001b[0;34m=\u001b[0m\u001b[0moff\u001b[0m\u001b[0;34m;\u001b[0m\u001b[0;34m\u001b[0m\u001b[0;34m\u001b[0m\u001b[0m\n\u001b[1;32m      6\u001b[0m         \u001b[0mBEGIN\u001b[0m \u001b[0mTRANSACTION\u001b[0m\u001b[0;34m;\u001b[0m\u001b[0;34m\u001b[0m\u001b[0;34m\u001b[0m\u001b[0m\n",
            "\u001b[0;31mWarning\u001b[0m: You can only execute one statement at a time."
          ]
        }
      ],
      "source": [
        "def add_department_foreign_key():\n",
        "    conn = sqlite3.connect('test.db')\n",
        "    cursor = conn.cursor()\n",
        "    cursor.execute('''\n",
        "        PRAGMA foreign_keys=off;\n",
        "        BEGIN TRANSACTION;\n",
        "        ALTER TABLE employees RENAME TO old_employees;\n",
        "        CREATE TABLE employees (\n",
        "            id INTEGER PRIMARY KEY,\n",
        "            name TEXT NOT NULL,\n",
        "            age INTEGER,\n",
        "            department TEXT,\n",
        "            department_id INTEGER,\n",
        "            FOREIGN KEY(department_id) REFERENCES departments(id)\n",
        "        );\n",
        "        INSERT INTO employees (id, name, age, department)\n",
        "        SELECT id, name, age, department FROM old_employees;\n",
        "        DROP TABLE old_employees;\n",
        "        COMMIT;\n",
        "        PRAGMA foreign_keys=on;\n",
        "    ''')\n",
        "    conn.commit()\n",
        "    conn.close()\n",
        "    print(\"Table 'employees' modified successfully.\")\n",
        "\n",
        "# Test the function\n",
        "add_department_foreign_key()"
      ],
      "id": "yqMB-gAv-hQ9"
    },
    {
      "cell_type": "markdown",
      "metadata": {
        "id": "IRGgADcA-hQ-"
      },
      "source": [
        "3. Write a Python function to insert data into both the `departments` and `employees` tables, ensuring referential integrity."
      ],
      "id": "IRGgADcA-hQ-"
    },
    {
      "cell_type": "code",
      "execution_count": 18,
      "metadata": {
        "colab": {
          "base_uri": "https://localhost:8080/"
        },
        "id": "dcNFXZCj-hQ-",
        "outputId": "c5d88fbc-0bda-4337-e7f6-762e21ebd9dd"
      },
      "outputs": [
        {
          "output_type": "stream",
          "name": "stdout",
          "text": [
            "Error occurred, transaction rolled back.\n",
            "table employees has no column named department_id\n"
          ]
        }
      ],
      "source": [
        "def insert_department_and_employee(department_id, department_name, employee_id, name, age, department):\n",
        "    conn = sqlite3.connect('test.db')\n",
        "    cursor = conn.cursor()\n",
        "    try:\n",
        "        cursor.execute('''\n",
        "            INSERT INTO departments (id, name)\n",
        "            VALUES (?, ?)\n",
        "        ''', (department_id, department_name))\n",
        "        cursor.execute('''\n",
        "            INSERT INTO employees (id, name, age, department, department_id)\n",
        "            VALUES (?, ?, ?, ?, ?)\n",
        "        ''', (employee_id, name, age, department, department_id))\n",
        "        conn.commit()\n",
        "        print(\"Department and employee inserted successfully.\")\n",
        "    except Exception as e:\n",
        "        conn.rollback()\n",
        "        print(\"Error occurred, transaction rolled back.\")\n",
        "        print(e)\n",
        "    finally:\n",
        "        conn.close()\n",
        "\n",
        "# Test the function\n",
        "insert_department_and_employee(1, 'Finance', 10, 'Zara', 28, 'Finance')"
      ],
      "id": "dcNFXZCj-hQ-"
    },
    {
      "cell_type": "markdown",
      "metadata": {
        "id": "s4mk7KoU-hQ-"
      },
      "source": [
        "### Assignment 9: Indexing and Optimization\n",
        "\n",
        "1. Create an index on the `name` column of the `employees` table."
      ],
      "id": "s4mk7KoU-hQ-"
    },
    {
      "cell_type": "code",
      "execution_count": 19,
      "metadata": {
        "colab": {
          "base_uri": "https://localhost:8080/"
        },
        "id": "Gp5AVRp3-hQ-",
        "outputId": "ed67c390-de9f-4abd-bd05-7cf86530aacd"
      },
      "outputs": [
        {
          "output_type": "stream",
          "name": "stdout",
          "text": [
            "Index on 'name' column created successfully.\n"
          ]
        }
      ],
      "source": [
        "def create_index_on_name():\n",
        "    conn = sqlite3.connect('test.db')\n",
        "    cursor = conn.cursor()\n",
        "    cursor.execute('CREATE INDEX idx_name ON employees(name)')\n",
        "    conn.commit()\n",
        "    conn.close()\n",
        "    print(\"Index on 'name' column created successfully.\")\n",
        "\n",
        "# Test the function\n",
        "create_index_on_name()"
      ],
      "id": "Gp5AVRp3-hQ-"
    },
    {
      "cell_type": "markdown",
      "metadata": {
        "id": "3JTCyH8Y-hQ_"
      },
      "source": [
        "2. Write a Python function to fetch and display all employees whose names start with a specific letter. Compare the performance with and without the index."
      ],
      "id": "3JTCyH8Y-hQ_"
    },
    {
      "cell_type": "code",
      "execution_count": 20,
      "metadata": {
        "colab": {
          "base_uri": "https://localhost:8080/"
        },
        "id": "LEmj6FeP-hQ_",
        "outputId": "dd257f7d-5462-4cca-b428-e7e0a7f8b1f7"
      },
      "outputs": [
        {
          "output_type": "stream",
          "name": "stdout",
          "text": [
            "Time taken: 0.0003731250762939453 seconds\n",
            "(1, 'Alice', 32, 'Finance')\n"
          ]
        }
      ],
      "source": [
        "import time\n",
        "\n",
        "def fetch_employees_name_starts_with_performance(letter):\n",
        "    conn = sqlite3.connect('test.db')\n",
        "    cursor = conn.cursor()\n",
        "    start_time = time.time()\n",
        "    cursor.execute('SELECT * FROM employees WHERE name LIKE ?', (letter + '%',))\n",
        "    records = cursor.fetchall()\n",
        "    end_time = time.time()\n",
        "    conn.close()\n",
        "    print(\"Time taken: {} seconds\".format(end_time - start_time))\n",
        "    for record in records:\n",
        "        print(record)\n",
        "\n",
        "# Test the function with the index\n",
        "fetch_employees_name_starts_with_performance('A')"
      ],
      "id": "LEmj6FeP-hQ_"
    },
    {
      "cell_type": "markdown",
      "metadata": {
        "id": "_jbAWqTf-hQ_"
      },
      "source": [
        "### Assignment 10: Backing Up and Restoring Data\n",
        "\n",
        "1. Write a Python function to back up the `test.db` database to a file named `backup.db`."
      ],
      "id": "_jbAWqTf-hQ_"
    },
    {
      "cell_type": "code",
      "execution_count": 21,
      "metadata": {
        "colab": {
          "base_uri": "https://localhost:8080/"
        },
        "id": "TIBTgJCe-hRA",
        "outputId": "cd2a0f76-2960-41c5-c344-f35000e27f8c"
      },
      "outputs": [
        {
          "output_type": "stream",
          "name": "stdout",
          "text": [
            "Database backed up successfully.\n"
          ]
        }
      ],
      "source": [
        "import shutil\n",
        "\n",
        "def backup_database():\n",
        "    shutil.copy('test.db', 'backup.db')\n",
        "    print(\"Database backed up successfully.\")\n",
        "\n",
        "# Test the function\n",
        "backup_database()"
      ],
      "id": "TIBTgJCe-hRA"
    },
    {
      "cell_type": "markdown",
      "metadata": {
        "id": "T-9GG5f6-hRA"
      },
      "source": [
        "2. Write a Python function to restore the `test.db` database from the `backup.db` file."
      ],
      "id": "T-9GG5f6-hRA"
    },
    {
      "cell_type": "code",
      "execution_count": 22,
      "metadata": {
        "colab": {
          "base_uri": "https://localhost:8080/"
        },
        "id": "9Y5uQlof-hRB",
        "outputId": "e8da7d77-b297-4de4-f056-e2687fd4cf73"
      },
      "outputs": [
        {
          "output_type": "stream",
          "name": "stdout",
          "text": [
            "Database restored successfully.\n"
          ]
        }
      ],
      "source": [
        "def restore_database():\n",
        "    shutil.copy('backup.db', 'test.db')\n",
        "    print(\"Database restored successfully.\")\n",
        "\n",
        "# Test the function\n",
        "restore_database()"
      ],
      "id": "9Y5uQlof-hRB"
    }
  ],
  "metadata": {
    "kernelspec": {
      "display_name": "Python 3",
      "language": "python",
      "name": "python3"
    },
    "language_info": {
      "codemirror_mode": {
        "name": "ipython",
        "version": 3
      },
      "file_extension": ".py",
      "mimetype": "text/x-python",
      "name": "python",
      "nbconvert_exporter": "python",
      "pygments_lexer": "ipython3",
      "version": "3.9.7"
    },
    "colab": {
      "provenance": [],
      "include_colab_link": true
    }
  },
  "nbformat": 4,
  "nbformat_minor": 5
}