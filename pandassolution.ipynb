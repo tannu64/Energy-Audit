{
  "cells": [
    {
      "cell_type": "markdown",
      "metadata": {
        "id": "view-in-github",
        "colab_type": "text"
      },
      "source": [
        "<a href=\"https://colab.research.google.com/github/tannu64/Energy-Audit/blob/main/pandassolution.ipynb\" target=\"_parent\"><img src=\"https://colab.research.google.com/assets/colab-badge.svg\" alt=\"Open In Colab\"/></a>"
      ]
    },
    {
      "cell_type": "markdown",
      "metadata": {
        "id": "qZfUp1q51Lux"
      },
      "source": [
        "# Module: Pandas Assignments\n",
        "## Lesson: Pandas\n",
        "### Assignment 1: DataFrame Creation and Indexing\n",
        "\n",
        "1. Create a Pandas DataFrame with 4 columns and 6 rows filled with random integers. Set the index to be the first column."
      ],
      "id": "qZfUp1q51Lux"
    },
    {
      "cell_type": "code",
      "execution_count": 1,
      "metadata": {
        "colab": {
          "base_uri": "https://localhost:8080/"
        },
        "id": "FXNSDFUE1Lu1",
        "outputId": "85ca9874-8950-4116-c007-2460fb9ef51e"
      },
      "outputs": [
        {
          "output_type": "stream",
          "name": "stdout",
          "text": [
            "Original DataFrame:\n",
            "    A   B   C   D\n",
            "0  28  64  59  70\n",
            "1  15  10  16  71\n",
            "2  90  29  52  82\n",
            "3  76  48  81  10\n",
            "4  40  48  80   5\n",
            "5  93  49  16  34\n",
            "DataFrame with new index:\n",
            "     B   C   D\n",
            "A             \n",
            "28  64  59  70\n",
            "15  10  16  71\n",
            "90  29  52  82\n",
            "76  48  81  10\n",
            "40  48  80   5\n",
            "93  49  16  34\n"
          ]
        }
      ],
      "source": [
        "import pandas as pd\n",
        "import numpy as np\n",
        "\n",
        "# Create a Pandas DataFrame with 4 columns and 6 rows filled with random integers\n",
        "df = pd.DataFrame(np.random.randint(1, 100, size=(6, 4)), columns=['A', 'B', 'C', 'D'])\n",
        "print(\"Original DataFrame:\")\n",
        "print(df)\n",
        "\n",
        "# Set the index to be the first column\n",
        "df.set_index('A', inplace=True)\n",
        "print(\"DataFrame with new index:\")\n",
        "print(df)"
      ],
      "id": "FXNSDFUE1Lu1"
    },
    {
      "cell_type": "markdown",
      "metadata": {
        "id": "EPZfRgWX1Lu3"
      },
      "source": [
        "2. Create a Pandas DataFrame with columns 'A', 'B', 'C' and index 'X', 'Y', 'Z'. Fill the DataFrame with random integers and access the element at row 'Y' and column 'B'."
      ],
      "id": "EPZfRgWX1Lu3"
    },
    {
      "cell_type": "code",
      "execution_count": 2,
      "metadata": {
        "colab": {
          "base_uri": "https://localhost:8080/"
        },
        "id": "21CVsj8B1Lu4",
        "outputId": "ec82149d-2688-4ac7-9b2c-b407816a8482"
      },
      "outputs": [
        {
          "output_type": "stream",
          "name": "stdout",
          "text": [
            "Original DataFrame:\n",
            "    A   B   C\n",
            "X  73   8   1\n",
            "Y  29  82  84\n",
            "Z   3  30  18\n",
            "Element at row 'Y' and column 'B': 82\n"
          ]
        }
      ],
      "source": [
        "# Create a Pandas DataFrame with specified columns and index\n",
        "df = pd.DataFrame(np.random.randint(1, 100, size=(3, 3)), columns=['A', 'B', 'C'], index=['X', 'Y', 'Z'])\n",
        "print(\"Original DataFrame:\")\n",
        "print(df)\n",
        "\n",
        "# Access the element at row 'Y' and column 'B'\n",
        "element = df.at['Y', 'B']\n",
        "print(\"Element at row 'Y' and column 'B':\", element)"
      ],
      "id": "21CVsj8B1Lu4"
    },
    {
      "cell_type": "markdown",
      "metadata": {
        "id": "gasqSL4d1Lu4"
      },
      "source": [
        "### Assignment 2: DataFrame Operations\n",
        "\n",
        "1. Create a Pandas DataFrame with 3 columns and 5 rows filled with random integers. Add a new column that is the product of the first two columns."
      ],
      "id": "gasqSL4d1Lu4"
    },
    {
      "cell_type": "code",
      "execution_count": 3,
      "metadata": {
        "colab": {
          "base_uri": "https://localhost:8080/"
        },
        "id": "RGi5mHhU1Lu5",
        "outputId": "c7ff5c1e-caf3-455d-8e0a-42f629eca08e"
      },
      "outputs": [
        {
          "output_type": "stream",
          "name": "stdout",
          "text": [
            "Original DataFrame:\n",
            "    A   B   C\n",
            "0  87  82  25\n",
            "1  78  46  46\n",
            "2  14  27  99\n",
            "3  67  64  19\n",
            "4  24  29  59\n",
            "DataFrame with new column:\n",
            "    A   B   C     D\n",
            "0  87  82  25  7134\n",
            "1  78  46  46  3588\n",
            "2  14  27  99   378\n",
            "3  67  64  19  4288\n",
            "4  24  29  59   696\n"
          ]
        }
      ],
      "source": [
        "# Create a Pandas DataFrame with 3 columns and 5 rows filled with random integers\n",
        "df = pd.DataFrame(np.random.randint(1, 100, size=(5, 3)), columns=['A', 'B', 'C'])\n",
        "print(\"Original DataFrame:\")\n",
        "print(df)\n",
        "\n",
        "# Add a new column that is the product of the first two columns\n",
        "df['D'] = df['A'] * df['B']\n",
        "print(\"DataFrame with new column:\")\n",
        "print(df)"
      ],
      "id": "RGi5mHhU1Lu5"
    },
    {
      "cell_type": "markdown",
      "metadata": {
        "id": "Q6z0nXgg1Lu6"
      },
      "source": [
        "2. Create a Pandas DataFrame with 3 columns and 4 rows filled with random integers. Compute the row-wise and column-wise sum."
      ],
      "id": "Q6z0nXgg1Lu6"
    },
    {
      "cell_type": "code",
      "execution_count": 4,
      "metadata": {
        "colab": {
          "base_uri": "https://localhost:8080/"
        },
        "id": "DvwMEJkb1Lu6",
        "outputId": "9f4a0fde-a20e-45d8-85a2-a06cc5c87b0a"
      },
      "outputs": [
        {
          "output_type": "stream",
          "name": "stdout",
          "text": [
            "Original DataFrame:\n",
            "    A   B   C\n",
            "0  47  65  83\n",
            "1  41  90  10\n",
            "2  36  54  67\n",
            "3   4   5   9\n",
            "Row-wise sum:\n",
            "0    195\n",
            "1    141\n",
            "2    157\n",
            "3     18\n",
            "dtype: int64\n",
            "Column-wise sum:\n",
            "A    128\n",
            "B    214\n",
            "C    169\n",
            "dtype: int64\n"
          ]
        }
      ],
      "source": [
        "# Create a Pandas DataFrame with 3 columns and 4 rows filled with random integers\n",
        "df = pd.DataFrame(np.random.randint(1, 100, size=(4, 3)), columns=['A', 'B', 'C'])\n",
        "print(\"Original DataFrame:\")\n",
        "print(df)\n",
        "\n",
        "# Compute the row-wise and column-wise sum\n",
        "row_sum = df.sum(axis=1)\n",
        "column_sum = df.sum(axis=0)\n",
        "\n",
        "print(\"Row-wise sum:\")\n",
        "print(row_sum)\n",
        "print(\"Column-wise sum:\")\n",
        "print(column_sum)"
      ],
      "id": "DvwMEJkb1Lu6"
    },
    {
      "cell_type": "markdown",
      "metadata": {
        "id": "819NprDa1Lu6"
      },
      "source": [
        "### Assignment 3: Data Cleaning\n",
        "\n",
        "1. Create a Pandas DataFrame with 3 columns and 5 rows filled with random integers. Introduce some NaN values. Fill the NaN values with the mean of the respective columns."
      ],
      "id": "819NprDa1Lu6"
    },
    {
      "cell_type": "code",
      "execution_count": 5,
      "metadata": {
        "colab": {
          "base_uri": "https://localhost:8080/"
        },
        "id": "vr7ng6Z71Lu7",
        "outputId": "fdbd42d2-65bc-4bb8-c0c8-6a7f6e3e8138"
      },
      "outputs": [
        {
          "output_type": "stream",
          "name": "stdout",
          "text": [
            "Original DataFrame:\n",
            "    A   B   C\n",
            "0   3  25  88\n",
            "1  35  38  77\n",
            "2  90  25  90\n",
            "3  60  11  94\n",
            "4  59  18  36\n",
            "DataFrame with NaN values:\n",
            "      A     B     C\n",
            "0   3.0   NaN  88.0\n",
            "1  35.0  38.0  77.0\n",
            "2  90.0  25.0   NaN\n",
            "3  60.0  11.0  94.0\n",
            "4   NaN  18.0  36.0\n",
            "DataFrame with NaN values filled:\n",
            "      A     B      C\n",
            "0   3.0  23.0  88.00\n",
            "1  35.0  38.0  77.00\n",
            "2  90.0  25.0  73.75\n",
            "3  60.0  11.0  94.00\n",
            "4  47.0  18.0  36.00\n"
          ]
        }
      ],
      "source": [
        "# Create a Pandas DataFrame with 3 columns and 5 rows filled with random integers\n",
        "df = pd.DataFrame(np.random.randint(1, 100, size=(5, 3)), columns=['A', 'B', 'C'])\n",
        "print(\"Original DataFrame:\")\n",
        "print(df)\n",
        "\n",
        "# Introduce some NaN values\n",
        "df.iloc[0, 1] = np.nan\n",
        "df.iloc[2, 2] = np.nan\n",
        "df.iloc[4, 0] = np.nan\n",
        "print(\"DataFrame with NaN values:\")\n",
        "print(df)\n",
        "\n",
        "# Fill the NaN values with the mean of the respective columns\n",
        "df.fillna(df.mean(), inplace=True)\n",
        "print(\"DataFrame with NaN values filled:\")\n",
        "print(df)"
      ],
      "id": "vr7ng6Z71Lu7"
    },
    {
      "cell_type": "markdown",
      "metadata": {
        "id": "dDYauVeN1Lu7"
      },
      "source": [
        "2. Create a Pandas DataFrame with 4 columns and 6 rows filled with random integers. Introduce some NaN values. Drop the rows with any NaN values."
      ],
      "id": "dDYauVeN1Lu7"
    },
    {
      "cell_type": "code",
      "execution_count": 6,
      "metadata": {
        "colab": {
          "base_uri": "https://localhost:8080/"
        },
        "id": "fizQeBBO1Lu7",
        "outputId": "91c8fef4-6cd7-4f6d-a504-c24e1718875f"
      },
      "outputs": [
        {
          "output_type": "stream",
          "name": "stdout",
          "text": [
            "Original DataFrame:\n",
            "    A   B   C   D\n",
            "0  28   3  97  95\n",
            "1  11  85  17  81\n",
            "2  76  81  90  79\n",
            "3  74  18   6  43\n",
            "4  33  38  10  10\n",
            "5  96  85  22  31\n",
            "DataFrame with NaN values:\n",
            "      A     B     C   D\n",
            "0  28.0   3.0  97.0  95\n",
            "1  11.0  85.0   NaN  81\n",
            "2  76.0  81.0  90.0  79\n",
            "3   NaN  18.0   6.0  43\n",
            "4  33.0  38.0  10.0  10\n",
            "5  96.0   NaN  22.0  31\n",
            "DataFrame with NaN values dropped:\n",
            "      A     B     C   D\n",
            "0  28.0   3.0  97.0  95\n",
            "2  76.0  81.0  90.0  79\n",
            "4  33.0  38.0  10.0  10\n"
          ]
        }
      ],
      "source": [
        "# Create a Pandas DataFrame with 4 columns and 6 rows filled with random integers\n",
        "df = pd.DataFrame(np.random.randint(1, 100, size=(6, 4)), columns=['A', 'B', 'C', 'D'])\n",
        "print(\"Original DataFrame:\")\n",
        "print(df)\n",
        "\n",
        "# Introduce some NaN values\n",
        "df.iloc[1, 2] = np.nan\n",
        "df.iloc[3, 0] = np.nan\n",
        "df.iloc[5, 1] = np.nan\n",
        "print(\"DataFrame with NaN values:\")\n",
        "print(df)\n",
        "\n",
        "# Drop the rows with any NaN values\n",
        "df.dropna(inplace=True)\n",
        "print(\"DataFrame with NaN values dropped:\")\n",
        "print(df)"
      ],
      "id": "fizQeBBO1Lu7"
    },
    {
      "cell_type": "markdown",
      "metadata": {
        "id": "DW2O2PMZ1Lu7"
      },
      "source": [
        "### Assignment 4: Data Aggregation\n",
        "\n",
        "1. Create a Pandas DataFrame with 2 columns: 'Category' and 'Value'. Fill the 'Category' column with random categories ('A', 'B', 'C') and the 'Value' column with random integers. Group the DataFrame by 'Category' and compute the sum and mean of 'Value' for each category."
      ],
      "id": "DW2O2PMZ1Lu7"
    },
    {
      "cell_type": "code",
      "execution_count": 7,
      "metadata": {
        "colab": {
          "base_uri": "https://localhost:8080/"
        },
        "id": "RTC34sLn1Lu8",
        "outputId": "e6bd95b6-ce52-4b05-b87f-50b1f2df0269"
      },
      "outputs": [
        {
          "output_type": "stream",
          "name": "stdout",
          "text": [
            "Original DataFrame:\n",
            "  Category  Value\n",
            "0        C     81\n",
            "1        A     78\n",
            "2        B     20\n",
            "3        A      2\n",
            "4        B     86\n",
            "5        A      7\n",
            "6        B      9\n",
            "7        A     12\n",
            "8        A      5\n",
            "9        B     63\n",
            "Grouped DataFrame:\n",
            "          sum  mean\n",
            "Category           \n",
            "A         104  20.8\n",
            "B         178  44.5\n",
            "C          81  81.0\n"
          ]
        }
      ],
      "source": [
        "# Create a Pandas DataFrame with 2 columns: 'Category' and 'Value'\n",
        "df = pd.DataFrame({'Category': np.random.choice(['A', 'B', 'C'], size=10), 'Value': np.random.randint(1, 100, size=10)})\n",
        "print(\"Original DataFrame:\")\n",
        "print(df)\n",
        "\n",
        "# Group the DataFrame by 'Category' and compute the sum and mean of 'Value' for each category\n",
        "grouped = df.groupby('Category')['Value'].agg(['sum', 'mean'])\n",
        "print(\"Grouped DataFrame:\")\n",
        "print(grouped)"
      ],
      "id": "RTC34sLn1Lu8"
    },
    {
      "cell_type": "markdown",
      "metadata": {
        "id": "LwwQgix51Lu8"
      },
      "source": [
        "2. Create a Pandas DataFrame with 3 columns: 'Product', 'Category', and 'Sales'. Fill the DataFrame with random data. Group the DataFrame by 'Category' and compute the total sales for each category."
      ],
      "id": "LwwQgix51Lu8"
    },
    {
      "cell_type": "code",
      "execution_count": 8,
      "metadata": {
        "colab": {
          "base_uri": "https://localhost:8080/"
        },
        "id": "ccQfO1sp1Lu8",
        "outputId": "d73e3fd7-cc00-47d5-b548-06b6459ce0ec"
      },
      "outputs": [
        {
          "output_type": "stream",
          "name": "stdout",
          "text": [
            "Original DataFrame:\n",
            "  Product Category  Sales\n",
            "0   Prod2        A     89\n",
            "1   Prod1        B      4\n",
            "2   Prod3        A     62\n",
            "3   Prod3        C     34\n",
            "4   Prod1        A     14\n",
            "5   Prod3        C     25\n",
            "6   Prod2        C     83\n",
            "7   Prod2        C     42\n",
            "8   Prod3        A     11\n",
            "9   Prod3        A     32\n",
            "Grouped DataFrame:\n",
            "Category\n",
            "A    208\n",
            "B      4\n",
            "C    184\n",
            "Name: Sales, dtype: int64\n"
          ]
        }
      ],
      "source": [
        "# Create a Pandas DataFrame with 3 columns: 'Product', 'Category', and 'Sales'\n",
        "df = pd.DataFrame({'Product': np.random.choice(['Prod1', 'Prod2', 'Prod3'], size=10), 'Category': np.random.choice(['A', 'B', 'C'], size=10), 'Sales': np.random.randint(1, 100, size=10)})\n",
        "print(\"Original DataFrame:\")\n",
        "print(df)\n",
        "\n",
        "# Group the DataFrame by 'Category' and compute the total sales for each category\n",
        "grouped = df.groupby('Category')['Sales'].sum()\n",
        "print(\"Grouped DataFrame:\")\n",
        "print(grouped)"
      ],
      "id": "ccQfO1sp1Lu8"
    },
    {
      "cell_type": "markdown",
      "metadata": {
        "id": "ytMRMIdd1Lu8"
      },
      "source": [
        "### Assignment 5: Merging DataFrames\n",
        "\n",
        "1. Create two Pandas DataFrames with a common column. Merge the DataFrames using the common column."
      ],
      "id": "ytMRMIdd1Lu8"
    },
    {
      "cell_type": "code",
      "execution_count": 9,
      "metadata": {
        "colab": {
          "base_uri": "https://localhost:8080/"
        },
        "id": "H9or_SPf1Lu8",
        "outputId": "1612e089-479e-43a4-9850-2005c55328c2"
      },
      "outputs": [
        {
          "output_type": "stream",
          "name": "stdout",
          "text": [
            "DataFrame 1:\n",
            "  Key  Value1\n",
            "0   A      15\n",
            "1   B      23\n",
            "2   C      47\n",
            "3   D      18\n",
            "DataFrame 2:\n",
            "  Key  Value2\n",
            "0   A      49\n",
            "1   B      33\n",
            "2   C      47\n",
            "3   E      50\n",
            "Merged DataFrame:\n",
            "  Key  Value1  Value2\n",
            "0   A      15      49\n",
            "1   B      23      33\n",
            "2   C      47      47\n"
          ]
        }
      ],
      "source": [
        "# Create two Pandas DataFrames with a common column\n",
        "df1 = pd.DataFrame({'Key': ['A', 'B', 'C', 'D'], 'Value1': np.random.randint(1, 100, size=4)})\n",
        "df2 = pd.DataFrame({'Key': ['A', 'B', 'C', 'E'], 'Value2': np.random.randint(1, 100, size=4)})\n",
        "print(\"DataFrame 1:\")\n",
        "print(df1)\n",
        "print(\"DataFrame 2:\")\n",
        "print(df2)\n",
        "\n",
        "# Merge the DataFrames using the common column\n",
        "merged = pd.merge(df1, df2, on='Key')\n",
        "print(\"Merged DataFrame:\")\n",
        "print(merged)"
      ],
      "id": "H9or_SPf1Lu8"
    },
    {
      "cell_type": "markdown",
      "metadata": {
        "id": "qhZmW0aJ1Lu9"
      },
      "source": [
        "2. Create two Pandas DataFrames with different columns. Concatenate the DataFrames along the rows and along the columns."
      ],
      "id": "qhZmW0aJ1Lu9"
    },
    {
      "cell_type": "code",
      "execution_count": 10,
      "metadata": {
        "colab": {
          "base_uri": "https://localhost:8080/"
        },
        "id": "kBgPe2bJ1Lu9",
        "outputId": "e792f2af-db41-4e93-dd2e-793916d150e5"
      },
      "outputs": [
        {
          "output_type": "stream",
          "name": "stdout",
          "text": [
            "DataFrame 1:\n",
            "    A   B\n",
            "0  98  93\n",
            "1   6  56\n",
            "2  10   9\n",
            "DataFrame 2:\n",
            "    C   D\n",
            "0  62  39\n",
            "1  59  49\n",
            "2  77  46\n",
            "Concatenated DataFrame (rows):\n",
            "      A     B     C     D\n",
            "0  98.0  93.0   NaN   NaN\n",
            "1   6.0  56.0   NaN   NaN\n",
            "2  10.0   9.0   NaN   NaN\n",
            "0   NaN   NaN  62.0  39.0\n",
            "1   NaN   NaN  59.0  49.0\n",
            "2   NaN   NaN  77.0  46.0\n",
            "Concatenated DataFrame (columns):\n",
            "    A   B   C   D\n",
            "0  98  93  62  39\n",
            "1   6  56  59  49\n",
            "2  10   9  77  46\n"
          ]
        }
      ],
      "source": [
        "# Create two Pandas DataFrames with different columns\n",
        "df1 = pd.DataFrame({'A': np.random.randint(1, 100, size=3), 'B': np.random.randint(1, 100, size=3)})\n",
        "df2 = pd.DataFrame({'C': np.random.randint(1, 100, size=3), 'D': np.random.randint(1, 100, size=3)})\n",
        "print(\"DataFrame 1:\")\n",
        "print(df1)\n",
        "print(\"DataFrame 2:\")\n",
        "print(df2)\n",
        "\n",
        "# Concatenate the DataFrames along the rows\n",
        "concat_rows = pd.concat([df1, df2], axis=0)\n",
        "print(\"Concatenated DataFrame (rows):\")\n",
        "print(concat_rows)\n",
        "\n",
        "# Concatenate the DataFrames along the columns\n",
        "concat_columns = pd.concat([df1, df2], axis=1)\n",
        "print(\"Concatenated DataFrame (columns):\")\n",
        "print(concat_columns)"
      ],
      "id": "kBgPe2bJ1Lu9"
    },
    {
      "cell_type": "markdown",
      "metadata": {
        "id": "fB0eUiqq1Lu9"
      },
      "source": [
        "### Assignment 6: Time Series Analysis\n",
        "\n",
        "1. Create a Pandas DataFrame with a datetime index and one column filled with random integers. Resample the DataFrame to compute the monthly mean of the values."
      ],
      "id": "fB0eUiqq1Lu9"
    },
    {
      "cell_type": "code",
      "execution_count": 11,
      "metadata": {
        "colab": {
          "base_uri": "https://localhost:8080/"
        },
        "id": "KuUeQhPh1Lu9",
        "outputId": "4e960067-c9c5-474d-97fe-f42f03f1336c"
      },
      "outputs": [
        {
          "output_type": "stream",
          "name": "stdout",
          "text": [
            "Original DataFrame:\n",
            "            data\n",
            "date            \n",
            "2022-01-01    67\n",
            "2022-01-02    61\n",
            "2022-01-03    27\n",
            "2022-01-04     9\n",
            "2022-01-05     1\n",
            "...          ...\n",
            "2022-12-27     0\n",
            "2022-12-28    70\n",
            "2022-12-29    77\n",
            "2022-12-30    57\n",
            "2022-12-31    49\n",
            "\n",
            "[365 rows x 1 columns]\n",
            "Monthly mean DataFrame:\n",
            "                 data\n",
            "date                 \n",
            "2022-01-31  51.064516\n",
            "2022-02-28  57.392857\n",
            "2022-03-31  47.483871\n",
            "2022-04-30  53.600000\n",
            "2022-05-31  44.903226\n",
            "2022-06-30  51.866667\n",
            "2022-07-31  49.354839\n",
            "2022-08-31  61.354839\n",
            "2022-09-30  44.366667\n",
            "2022-10-31  57.387097\n",
            "2022-11-30  55.066667\n",
            "2022-12-31  54.161290\n"
          ]
        },
        {
          "output_type": "stream",
          "name": "stderr",
          "text": [
            "<ipython-input-11-5fb4668014f5>:10: FutureWarning: 'M' is deprecated and will be removed in a future version, please use 'ME' instead.\n",
            "  monthly_mean = df.resample('M').mean()\n"
          ]
        }
      ],
      "source": [
        "# Create a Pandas DataFrame with a datetime index and one column filled with random integers\n",
        "date_rng = pd.date_range(start='2022-01-01', end='2022-12-31', freq='D')\n",
        "df = pd.DataFrame(date_rng, columns=['date'])\n",
        "df['data'] = np.random.randint(0, 100, size=(len(date_rng)))\n",
        "df.set_index('date', inplace=True)\n",
        "print(\"Original DataFrame:\")\n",
        "print(df)\n",
        "\n",
        "# Resample the DataFrame to compute the monthly mean of the values\n",
        "monthly_mean = df.resample('M').mean()\n",
        "print(\"Monthly mean DataFrame:\")\n",
        "print(monthly_mean)"
      ],
      "id": "KuUeQhPh1Lu9"
    },
    {
      "cell_type": "markdown",
      "metadata": {
        "id": "rUWmYddJ1Lu9"
      },
      "source": [
        "2. Create a Pandas DataFrame with a datetime index ranging from '2021-01-01' to '2021-12-31' and one column filled with random integers. Compute the rolling mean with a window of 7 days."
      ],
      "id": "rUWmYddJ1Lu9"
    },
    {
      "cell_type": "code",
      "execution_count": 12,
      "metadata": {
        "colab": {
          "base_uri": "https://localhost:8080/"
        },
        "id": "5SCBaaAQ1Lu-",
        "outputId": "f9c8e854-0acd-4ac6-bff9-de4b5702c786"
      },
      "outputs": [
        {
          "output_type": "stream",
          "name": "stdout",
          "text": [
            "Original DataFrame:\n",
            "            data\n",
            "date            \n",
            "2021-01-01    38\n",
            "2021-01-02    84\n",
            "2021-01-03    24\n",
            "2021-01-04    35\n",
            "2021-01-05    77\n",
            "...          ...\n",
            "2021-12-27    89\n",
            "2021-12-28     6\n",
            "2021-12-29    47\n",
            "2021-12-30     7\n",
            "2021-12-31    19\n",
            "\n",
            "[365 rows x 1 columns]\n",
            "Rolling mean DataFrame:\n",
            "                 data\n",
            "date                 \n",
            "2021-01-01        NaN\n",
            "2021-01-02        NaN\n",
            "2021-01-03        NaN\n",
            "2021-01-04        NaN\n",
            "2021-01-05        NaN\n",
            "...               ...\n",
            "2021-12-27  56.571429\n",
            "2021-12-28  51.571429\n",
            "2021-12-29  50.857143\n",
            "2021-12-30  46.428571\n",
            "2021-12-31  39.000000\n",
            "\n",
            "[365 rows x 1 columns]\n"
          ]
        }
      ],
      "source": [
        "# Create a Pandas DataFrame with a datetime index ranging from '2021-01-01' to '2021-12-31'\n",
        "date_rng = pd.date_range(start='2021-01-01', end='2021-12-31', freq='D')\n",
        "df = pd.DataFrame(date_rng, columns=['date'])\n",
        "df['data'] = np.random.randint(0, 100, size=(len(date_rng)))\n",
        "df.set_index('date', inplace=True)\n",
        "print(\"Original DataFrame:\")\n",
        "print(df)\n",
        "\n",
        "# Compute the rolling mean with a window of 7 days\n",
        "rolling_mean = df.rolling(window=7).mean()\n",
        "print(\"Rolling mean DataFrame:\")\n",
        "print(rolling_mean)"
      ],
      "id": "5SCBaaAQ1Lu-"
    },
    {
      "cell_type": "markdown",
      "metadata": {
        "id": "i7i4MLsA1Lu-"
      },
      "source": [
        "### Assignment 7: MultiIndex DataFrame\n",
        "\n",
        "1. Create a Pandas DataFrame with a MultiIndex (hierarchical index). Perform some basic indexing and slicing operations on the MultiIndex DataFrame."
      ],
      "id": "i7i4MLsA1Lu-"
    },
    {
      "cell_type": "code",
      "execution_count": 13,
      "metadata": {
        "colab": {
          "base_uri": "https://localhost:8080/"
        },
        "id": "5pKCf7OX1Lu-",
        "outputId": "ad7d17ca-ca90-440b-cad3-d67d96b61d23"
      },
      "outputs": [
        {
          "output_type": "stream",
          "name": "stdout",
          "text": [
            "MultiIndex DataFrame:\n",
            "                      Value1  Value2  Value3\n",
            "Category SubCategory                        \n",
            "A        one              69      27       2\n",
            "         two              55       6       8\n",
            "B        one              94      52      39\n",
            "         two              26      38      83\n",
            "Indexing at Category 'A':\n",
            "             Value1  Value2  Value3\n",
            "SubCategory                        \n",
            "one              69      27       2\n",
            "two              55       6       8\n",
            "Slicing at Category 'B' and SubCategory 'two':\n",
            "Value1    26\n",
            "Value2    38\n",
            "Value3    83\n",
            "Name: (B, two), dtype: int64\n"
          ]
        }
      ],
      "source": [
        "# Create a Pandas DataFrame with a MultiIndex (hierarchical index)\n",
        "arrays = [['A', 'A', 'B', 'B'], ['one', 'two', 'one', 'two']]\n",
        "index = pd.MultiIndex.from_arrays(arrays, names=('Category', 'SubCategory'))\n",
        "df = pd.DataFrame(np.random.randint(1, 100, size=(4, 3)), index=index, columns=['Value1', 'Value2', 'Value3'])\n",
        "print(\"MultiIndex DataFrame:\")\n",
        "print(df)\n",
        "\n",
        "# Basic indexing and slicing operations\n",
        "print(\"Indexing at Category 'A':\")\n",
        "print(df.loc['A'])\n",
        "\n",
        "print(\"Slicing at Category 'B' and SubCategory 'two':\")\n",
        "print(df.loc[('B', 'two')])"
      ],
      "id": "5pKCf7OX1Lu-"
    },
    {
      "cell_type": "markdown",
      "metadata": {
        "id": "E3LMDDmx1Lu-"
      },
      "source": [
        "2. Create a Pandas DataFrame with MultiIndex consisting of 'Category' and 'SubCategory'. Fill the DataFrame with random data and compute the sum of values for each 'Category' and 'SubCategory'."
      ],
      "id": "E3LMDDmx1Lu-"
    },
    {
      "cell_type": "code",
      "execution_count": 14,
      "metadata": {
        "colab": {
          "base_uri": "https://localhost:8080/"
        },
        "id": "_2NrkDvU1Lu-",
        "outputId": "50b0d7d4-3216-4f68-a397-8b4403207da9"
      },
      "outputs": [
        {
          "output_type": "stream",
          "name": "stdout",
          "text": [
            "MultiIndex DataFrame:\n",
            "                      Value1  Value2  Value3\n",
            "Category SubCategory                        \n",
            "A        one              93      47      90\n",
            "         two              82      45      49\n",
            "B        one              65      59      95\n",
            "         two              27      45      57\n",
            "C        one              56      18      44\n",
            "         two              61      34      73\n",
            "Sum of values:\n",
            "                      Value1  Value2  Value3\n",
            "Category SubCategory                        \n",
            "A        one              93      47      90\n",
            "         two              82      45      49\n",
            "B        one              65      59      95\n",
            "         two              27      45      57\n",
            "C        one              56      18      44\n",
            "         two              61      34      73\n"
          ]
        }
      ],
      "source": [
        "# Create a Pandas DataFrame with MultiIndex consisting of 'Category' and 'SubCategory'\n",
        "arrays = [['A', 'A', 'B', 'B', 'C', 'C'], ['one', 'two', 'one', 'two', 'one', 'two']]\n",
        "index = pd.MultiIndex.from_arrays(arrays, names=('Category', 'SubCategory'))\n",
        "df = pd.DataFrame(np.random.randint(1, 100, size=(6, 3)), index=index, columns=['Value1', 'Value2', 'Value3'])\n",
        "print(\"MultiIndex DataFrame:\")\n",
        "print(df)\n",
        "\n",
        "# Compute the sum of values for each 'Category' and 'SubCategory'\n",
        "sum_values = df.groupby(['Category', 'SubCategory']).sum()\n",
        "print(\"Sum of values:\")\n",
        "print(sum_values)"
      ],
      "id": "_2NrkDvU1Lu-"
    },
    {
      "cell_type": "markdown",
      "metadata": {
        "id": "bY5F6MId1Lu_"
      },
      "source": [
        "### Assignment 8: Pivot Tables\n",
        "\n",
        "1. Create a Pandas DataFrame with columns 'Date', 'Category', and 'Value'. Create a pivot table to compute the sum of 'Value' for each 'Category' by 'Date'."
      ],
      "id": "bY5F6MId1Lu_"
    },
    {
      "cell_type": "code",
      "execution_count": 15,
      "metadata": {
        "colab": {
          "base_uri": "https://localhost:8080/"
        },
        "id": "PjqhB5Mu1Lu_",
        "outputId": "7399138a-2532-49fd-9a18-247ceb5174e7"
      },
      "outputs": [
        {
          "output_type": "stream",
          "name": "stdout",
          "text": [
            "Original DataFrame:\n",
            "         Date Category  Value\n",
            "0  2022-01-05        C     24\n",
            "1  2022-01-08        C      2\n",
            "2  2022-01-02        C     81\n",
            "3  2022-01-09        C     54\n",
            "4  2022-01-04        B     98\n",
            "5  2022-01-05        B     43\n",
            "6  2022-01-06        B     94\n",
            "7  2022-01-02        A     97\n",
            "8  2022-01-02        C     47\n",
            "9  2022-01-02        C     56\n",
            "10 2022-01-03        B     88\n",
            "11 2022-01-05        B     75\n",
            "12 2022-01-08        C     29\n",
            "13 2022-01-03        B     78\n",
            "14 2022-01-03        B     17\n",
            "15 2022-01-08        C     89\n",
            "16 2022-01-09        A     19\n",
            "17 2022-01-06        A     23\n",
            "18 2022-01-07        A     31\n",
            "19 2022-01-09        C     68\n",
            "Pivot Table:\n",
            "Category       A      B      C\n",
            "Date                          \n",
            "2022-01-02  97.0    NaN  184.0\n",
            "2022-01-03   NaN  183.0    NaN\n",
            "2022-01-04   NaN   98.0    NaN\n",
            "2022-01-05   NaN  118.0   24.0\n",
            "2022-01-06  23.0   94.0    NaN\n",
            "2022-01-07  31.0    NaN    NaN\n",
            "2022-01-08   NaN    NaN  120.0\n",
            "2022-01-09  19.0    NaN  122.0\n"
          ]
        }
      ],
      "source": [
        "# Create a Pandas DataFrame with columns 'Date', 'Category', and 'Value'\n",
        "date_rng = pd.date_range(start='2022-01-01', end='2022-01-10', freq='D')\n",
        "df = pd.DataFrame({'Date': np.random.choice(date_rng, size=20), 'Category': np.random.choice(['A', 'B', 'C'], size=20), 'Value': np.random.randint(1, 100, size=20)})\n",
        "print(\"Original DataFrame:\")\n",
        "print(df)\n",
        "\n",
        "# Create a pivot table to compute the sum of 'Value' for each 'Category' by 'Date'\n",
        "pivot_table = df.pivot_table(values='Value', index='Date', columns='Category', aggfunc='sum')\n",
        "print(\"Pivot Table:\")\n",
        "print(pivot_table)"
      ],
      "id": "PjqhB5Mu1Lu_"
    },
    {
      "cell_type": "markdown",
      "metadata": {
        "id": "Bt1asA4w1Lu_"
      },
      "source": [
        "2. Create a Pandas DataFrame with columns 'Year', 'Quarter', and 'Revenue'. Create a pivot table to compute the mean 'Revenue' for each 'Quarter' by 'Year'."
      ],
      "id": "Bt1asA4w1Lu_"
    },
    {
      "cell_type": "code",
      "execution_count": 16,
      "metadata": {
        "colab": {
          "base_uri": "https://localhost:8080/"
        },
        "id": "c3NSDI961Lu_",
        "outputId": "28e55827-255e-422d-aa7c-186cee74d665"
      },
      "outputs": [
        {
          "output_type": "stream",
          "name": "stdout",
          "text": [
            "Original DataFrame:\n",
            "    Year Quarter  Revenue\n",
            "0   2022      Q2      343\n",
            "1   2022      Q3      553\n",
            "2   2020      Q4      426\n",
            "3   2022      Q1      497\n",
            "4   2021      Q1      536\n",
            "5   2022      Q2      394\n",
            "6   2021      Q2       20\n",
            "7   2020      Q1      859\n",
            "8   2021      Q2      994\n",
            "9   2020      Q4      745\n",
            "10  2022      Q4      188\n",
            "11  2020      Q3      514\n",
            "Pivot Table:\n",
            "Quarter     Q1     Q2     Q3     Q4\n",
            "Year                               \n",
            "2020     859.0    NaN  514.0  585.5\n",
            "2021     536.0  507.0    NaN    NaN\n",
            "2022     497.0  368.5  553.0  188.0\n"
          ]
        }
      ],
      "source": [
        "# Create a Pandas DataFrame with columns 'Year', 'Quarter', and 'Revenue'\n",
        "df = pd.DataFrame({'Year': np.random.choice([2020, 2021, 2022], size=12), 'Quarter': np.random.choice(['Q1', 'Q2', 'Q3', 'Q4'], size=12), 'Revenue': np.random.randint(1, 1000, size=12)})\n",
        "print(\"Original DataFrame:\")\n",
        "print(df)\n",
        "\n",
        "# Create a pivot table to compute the mean 'Revenue' for each 'Quarter' by 'Year'\n",
        "pivot_table = df.pivot_table(values='Revenue', index='Year', columns='Quarter', aggfunc='mean')\n",
        "print(\"Pivot Table:\")\n",
        "print(pivot_table)"
      ],
      "id": "c3NSDI961Lu_"
    },
    {
      "cell_type": "markdown",
      "metadata": {
        "id": "U4n9o4u41LvA"
      },
      "source": [
        "### Assignment 9: Applying Functions\n",
        "\n",
        "1. Create a Pandas DataFrame with 3 columns and 5 rows filled with random integers. Apply a function that doubles the values of the DataFrame."
      ],
      "id": "U4n9o4u41LvA"
    },
    {
      "cell_type": "code",
      "execution_count": 17,
      "metadata": {
        "colab": {
          "base_uri": "https://localhost:8080/"
        },
        "id": "OZBpyDdz1LvA",
        "outputId": "e8c523bd-a3b6-4481-b451-2a7d17c0e98c"
      },
      "outputs": [
        {
          "output_type": "stream",
          "name": "stdout",
          "text": [
            "Original DataFrame:\n",
            "    A   B   C\n",
            "0  54  42  30\n",
            "1  90  64  39\n",
            "2  16  82  52\n",
            "3  62  57  17\n",
            "4  56  33  50\n",
            "Doubled DataFrame:\n",
            "     A    B    C\n",
            "0  108   84   60\n",
            "1  180  128   78\n",
            "2   32  164  104\n",
            "3  124  114   34\n",
            "4  112   66  100\n"
          ]
        },
        {
          "output_type": "stream",
          "name": "stderr",
          "text": [
            "<ipython-input-17-79053e5e385f>:7: FutureWarning: DataFrame.applymap has been deprecated. Use DataFrame.map instead.\n",
            "  df_doubled = df.applymap(lambda x: x * 2)\n"
          ]
        }
      ],
      "source": [
        "# Create a Pandas DataFrame with 3 columns and 5 rows filled with random integers\n",
        "df = pd.DataFrame(np.random.randint(1, 100, size=(5, 3)), columns=['A', 'B', 'C'])\n",
        "print(\"Original DataFrame:\")\n",
        "print(df)\n",
        "\n",
        "# Apply a function that doubles the values of the DataFrame\n",
        "df_doubled = df.applymap(lambda x: x * 2)\n",
        "print(\"Doubled DataFrame:\")\n",
        "print(df_doubled)"
      ],
      "id": "OZBpyDdz1LvA"
    },
    {
      "cell_type": "markdown",
      "metadata": {
        "id": "U9Ip5OH81LvA"
      },
      "source": [
        "2. Create a Pandas DataFrame with 3 columns and 6 rows filled with random integers. Apply a lambda function to create a new column that is the sum of the existing columns."
      ],
      "id": "U9Ip5OH81LvA"
    },
    {
      "cell_type": "code",
      "execution_count": 18,
      "metadata": {
        "colab": {
          "base_uri": "https://localhost:8080/"
        },
        "id": "Yh4QUepc1LvA",
        "outputId": "c0ae45bb-7811-46d4-a164-67c5adfe87cb"
      },
      "outputs": [
        {
          "output_type": "stream",
          "name": "stdout",
          "text": [
            "Original DataFrame:\n",
            "    A   B   C\n",
            "0  51  25  97\n",
            "1  56  19  79\n",
            "2  54  45  51\n",
            "3  33   1  94\n",
            "4  46   5  92\n",
            "5  24   3  48\n",
            "DataFrame with Sum column:\n",
            "    A   B   C  Sum\n",
            "0  51  25  97  173\n",
            "1  56  19  79  154\n",
            "2  54  45  51  150\n",
            "3  33   1  94  128\n",
            "4  46   5  92  143\n",
            "5  24   3  48   75\n"
          ]
        }
      ],
      "source": [
        "# Create a Pandas DataFrame with 3 columns and 6 rows filled with random integers\n",
        "df = pd.DataFrame(np.random.randint(1, 100, size=(6, 3)), columns=['A', 'B', 'C'])\n",
        "print(\"Original DataFrame:\")\n",
        "print(df)\n",
        "\n",
        "# Apply a lambda function to create a new column that is the sum of the existing columns\n",
        "df['Sum'] = df.apply(lambda row: row.sum(), axis=1)\n",
        "print(\"DataFrame with Sum column:\")\n",
        "print(df)"
      ],
      "id": "Yh4QUepc1LvA"
    },
    {
      "cell_type": "markdown",
      "metadata": {
        "id": "ur1zRHn21LvA"
      },
      "source": [
        "### Assignment 10: Working with Text Data\n",
        "\n",
        "1. Create a Pandas Series with 5 random text strings. Convert all the strings to uppercase."
      ],
      "id": "ur1zRHn21LvA"
    },
    {
      "cell_type": "code",
      "execution_count": 19,
      "metadata": {
        "colab": {
          "base_uri": "https://localhost:8080/"
        },
        "id": "ZpWYKoxw1LvB",
        "outputId": "633c050e-fc1f-4844-addb-720144fc2c2c"
      },
      "outputs": [
        {
          "output_type": "stream",
          "name": "stdout",
          "text": [
            "Original Series:\n",
            "0         apple\n",
            "1        banana\n",
            "2        cherry\n",
            "3          date\n",
            "4    elderberry\n",
            "dtype: object\n",
            "Uppercase Series:\n",
            "0         APPLE\n",
            "1        BANANA\n",
            "2        CHERRY\n",
            "3          DATE\n",
            "4    ELDERBERRY\n",
            "dtype: object\n"
          ]
        }
      ],
      "source": [
        "# Create a Pandas Series with 5 random text strings\n",
        "text_data = pd.Series(['apple', 'banana', 'cherry', 'date', 'elderberry'])\n",
        "print(\"Original Series:\")\n",
        "print(text_data)\n",
        "\n",
        "# Convert all the strings to uppercase\n",
        "uppercase_data = text_data.str.upper()\n",
        "print(\"Uppercase Series:\")\n",
        "print(uppercase_data)"
      ],
      "id": "ZpWYKoxw1LvB"
    },
    {
      "cell_type": "markdown",
      "metadata": {
        "id": "hvWy20Ro1LvB"
      },
      "source": [
        "2. Create a Pandas Series with 5 random text strings. Extract the first three characters of each string."
      ],
      "id": "hvWy20Ro1LvB"
    },
    {
      "cell_type": "code",
      "execution_count": 20,
      "metadata": {
        "colab": {
          "base_uri": "https://localhost:8080/"
        },
        "id": "2miWS4Au1LvB",
        "outputId": "19fc2a74-2f29-4ebf-fd4f-4e3f38d5ee2e"
      },
      "outputs": [
        {
          "output_type": "stream",
          "name": "stdout",
          "text": [
            "Original Series:\n",
            "0         apple\n",
            "1        banana\n",
            "2        cherry\n",
            "3          date\n",
            "4    elderberry\n",
            "dtype: object\n",
            "First three characters:\n",
            "0    app\n",
            "1    ban\n",
            "2    che\n",
            "3    dat\n",
            "4    eld\n",
            "dtype: object\n"
          ]
        }
      ],
      "source": [
        "# Create a Pandas Series with 5 random text strings\n",
        "text_data = pd.Series(['apple', 'banana', 'cherry', 'date', 'elderberry'])\n",
        "print(\"Original Series:\")\n",
        "print(text_data)\n",
        "\n",
        "# Extract the first three characters of each string\n",
        "first_three_chars = text_data.str[:3]\n",
        "print(\"First three characters:\")\n",
        "print(first_three_chars)"
      ],
      "id": "2miWS4Au1LvB"
    }
  ],
  "metadata": {
    "kernelspec": {
      "display_name": "Python 3",
      "language": "python",
      "name": "python3"
    },
    "language_info": {
      "codemirror_mode": {
        "name": "ipython",
        "version": 3
      },
      "file_extension": ".py",
      "mimetype": "text/x-python",
      "name": "python",
      "nbconvert_exporter": "python",
      "pygments_lexer": "ipython3",
      "version": "3.9.7"
    },
    "colab": {
      "provenance": [],
      "include_colab_link": true
    }
  },
  "nbformat": 4,
  "nbformat_minor": 5
}