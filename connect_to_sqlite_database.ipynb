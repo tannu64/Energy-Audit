{
  "nbformat": 4,
  "nbformat_minor": 0,
  "metadata": {
    "colab": {
      "provenance": [],
      "include_colab_link": true
    },
    "kernelspec": {
      "name": "python3",
      "display_name": "Python 3"
    },
    "language_info": {
      "name": "python"
    }
  },
  "cells": [
    {
      "cell_type": "markdown",
      "metadata": {
        "id": "view-in-github",
        "colab_type": "text"
      },
      "source": [
        "<a href=\"https://colab.research.google.com/github/tannu64/Energy-Audit/blob/main/connect_to_sqlite_database.ipynb\" target=\"_parent\"><img src=\"https://colab.research.google.com/assets/colab-badge.svg\" alt=\"Open In Colab\"/></a>"
      ]
    },
    {
      "cell_type": "markdown",
      "source": [
        "Connecting Python To Databases Via Google Colaboratory (Colab)\n",
        "Using Cursor Object and Panda DataFrame to work with POSTGRESQL, MYSQL/MARIADB, MS SQL and SQLITE data sources\n"
      ],
      "metadata": {
        "id": "ZVVE9gJw2Z-2"
      }
    },
    {
      "cell_type": "markdown",
      "source": [
        "# SQLITE"
      ],
      "metadata": {
        "id": "1urbSNcjmdbe"
      }
    },
    {
      "cell_type": "markdown",
      "source": [
        "##Download remote sqlite db file"
      ],
      "metadata": {
        "id": "fZuG9uSKNgfN"
      }
    },
    {
      "cell_type": "code",
      "source": [
        "file_url='https://www.dropbox.com/s/a2wax843eniq12g/flights.db'\n",
        "file_name=file_url.split('/')[-1]\n",
        "!wget {file_url}"
      ],
      "metadata": {
        "colab": {
          "base_uri": "https://localhost:8080/"
        },
        "id": "TFhpEpTOKtyi",
        "outputId": "093ae701-e5b8-4c42-cbed-d0fd2d98c7e7"
      },
      "execution_count": 1,
      "outputs": [
        {
          "output_type": "stream",
          "name": "stdout",
          "text": [
            "--2024-12-24 18:22:58--  https://www.dropbox.com/s/a2wax843eniq12g/flights.db\n",
            "Resolving www.dropbox.com (www.dropbox.com)... 162.125.3.18, 2620:100:6018:18::a27d:312\n",
            "Connecting to www.dropbox.com (www.dropbox.com)|162.125.3.18|:443... connected.\n",
            "HTTP request sent, awaiting response... 302 Found\n",
            "Location: https://www.dropbox.com/scl/fi/psvv6u1ssz9m06qcmndvn/flights.db?rlkey=n507fhgcykz89b1mbeeaibsu6 [following]\n",
            "--2024-12-24 18:22:58--  https://www.dropbox.com/scl/fi/psvv6u1ssz9m06qcmndvn/flights.db?rlkey=n507fhgcykz89b1mbeeaibsu6\n",
            "Reusing existing connection to www.dropbox.com:443.\n",
            "HTTP request sent, awaiting response... 302 Found\n",
            "Location: https://uccf8047cc4b9e782f433e478099.dl.dropboxusercontent.com/cd/0/inline/Cg4QZvdUpfSXoDsqia5mysbkXkyWMb84nrtgPnHMOJcA95w_soDwNwUx-QkUVNlAGuoDKdBPKdiXslum0CeZnb7ElputfIXTdqoipuXfgs5siVkaFGzkRNCdcZGszVsO0DM/file# [following]\n",
            "--2024-12-24 18:22:59--  https://uccf8047cc4b9e782f433e478099.dl.dropboxusercontent.com/cd/0/inline/Cg4QZvdUpfSXoDsqia5mysbkXkyWMb84nrtgPnHMOJcA95w_soDwNwUx-QkUVNlAGuoDKdBPKdiXslum0CeZnb7ElputfIXTdqoipuXfgs5siVkaFGzkRNCdcZGszVsO0DM/file\n",
            "Resolving uccf8047cc4b9e782f433e478099.dl.dropboxusercontent.com (uccf8047cc4b9e782f433e478099.dl.dropboxusercontent.com)... 162.125.3.15, 2620:100:6018:15::a27d:30f\n",
            "Connecting to uccf8047cc4b9e782f433e478099.dl.dropboxusercontent.com (uccf8047cc4b9e782f433e478099.dl.dropboxusercontent.com)|162.125.3.15|:443... connected.\n",
            "HTTP request sent, awaiting response... 302 Found\n",
            "Location: /cd/0/inline2/Cg7Ojizqo1hElSzOusbdtuKZjaYELGYLBmT6OeW2buixCTUR831UjH9Gg7Qfsg2L8CJ6UEVNJ0o_xyC9yJuA6nFglIieilBOum1nonOc11zyTgrq_Cycjoj5T-f50JZqZ8dAVHz_ia-IuLnU_qMaqXVQHm84QQi27s_fQmJJ2l7oXwodHLws3CQZS1sWI8CZpvWrQkR-1x-CItriHM-IOS44K6s99q7w8kg_SH9B5j9Jor76uv-XAMi_m-5-EfCbgye6a-KftAXm0KEznwAbnS2G4wigsfIAM9eiTIGPPeydSjfEGDTuWNsbngL6zgIFxOMX7svpQAFFTzcGBYSYGrsV9LmRdHefy_a-l8q_0pivCg/file [following]\n",
            "--2024-12-24 18:22:59--  https://uccf8047cc4b9e782f433e478099.dl.dropboxusercontent.com/cd/0/inline2/Cg7Ojizqo1hElSzOusbdtuKZjaYELGYLBmT6OeW2buixCTUR831UjH9Gg7Qfsg2L8CJ6UEVNJ0o_xyC9yJuA6nFglIieilBOum1nonOc11zyTgrq_Cycjoj5T-f50JZqZ8dAVHz_ia-IuLnU_qMaqXVQHm84QQi27s_fQmJJ2l7oXwodHLws3CQZS1sWI8CZpvWrQkR-1x-CItriHM-IOS44K6s99q7w8kg_SH9B5j9Jor76uv-XAMi_m-5-EfCbgye6a-KftAXm0KEznwAbnS2G4wigsfIAM9eiTIGPPeydSjfEGDTuWNsbngL6zgIFxOMX7svpQAFFTzcGBYSYGrsV9LmRdHefy_a-l8q_0pivCg/file\n",
            "Reusing existing connection to uccf8047cc4b9e782f433e478099.dl.dropboxusercontent.com:443.\n",
            "HTTP request sent, awaiting response... 200 OK\n",
            "Length: 5415936 (5.2M) [application/octet-stream]\n",
            "Saving to: ‘flights.db’\n",
            "\n",
            "flights.db          100%[===================>]   5.17M  --.-KB/s    in 0.09s   \n",
            "\n",
            "2024-12-24 18:23:00 (58.7 MB/s) - ‘flights.db’ saved [5415936/5415936]\n",
            "\n"
          ]
        }
      ]
    },
    {
      "cell_type": "code",
      "source": [
        "import sqlite3\n",
        "lt_conn = sqlite3.connect(file_name)"
      ],
      "metadata": {
        "id": "ihUwj0U1g359"
      },
      "execution_count": 2,
      "outputs": []
    },
    {
      "cell_type": "markdown",
      "source": [
        "##Use Cursor Object to manipulate database"
      ],
      "metadata": {
        "id": "w1Y_ZqYlLT55"
      }
    },
    {
      "cell_type": "code",
      "source": [
        "import sqlite3\n",
        "lt_conn = sqlite3.connect(file_name)\n",
        "db_cursor = lt_conn.cursor()\n",
        "db_cursor.execute(\"select * from airlines limit 5;\")\n",
        "for row in db_cursor:\n",
        "  print(row)\n",
        "db_cursor.close()\n",
        "db_cursor.close()"
      ],
      "metadata": {
        "colab": {
          "base_uri": "https://localhost:8080/"
        },
        "id": "HmIDJqk1hMvO",
        "outputId": "d13b96da-02cf-430b-e871-5094171d8703"
      },
      "execution_count": 3,
      "outputs": [
        {
          "output_type": "stream",
          "name": "stdout",
          "text": [
            "(0, '1', 'Private flight', '\\\\N', '-', None, None, None, 'Y')\n",
            "(1, '2', '135 Airways', '\\\\N', None, 'GNL', 'GENERAL', 'United States', 'N')\n",
            "(2, '3', '1Time Airline', '\\\\N', '1T', 'RNX', 'NEXTIME', 'South Africa', 'Y')\n",
            "(3, '4', '2 Sqn No 1 Elementary Flying Training School', '\\\\N', None, 'WYT', None, 'United Kingdom', 'N')\n",
            "(4, '5', '213 Flight Unit', '\\\\N', None, 'TFU', None, 'Russia', 'N')\n"
          ]
        }
      ]
    },
    {
      "cell_type": "markdown",
      "source": [
        "## Connecting to sqlite db file in google drive"
      ],
      "metadata": {
        "id": "ctgQNn9PLXoy"
      }
    },
    {
      "cell_type": "code",
      "source": [
        "from google.colab import drive\n",
        "drive.mount('/content/drive')"
      ],
      "metadata": {
        "id": "64nvH-ZDM7QS",
        "outputId": "3c5173af-a1f5-4c1c-8cc2-30e5b245f969",
        "colab": {
          "base_uri": "https://localhost:8080/"
        }
      },
      "execution_count": 4,
      "outputs": [
        {
          "output_type": "stream",
          "name": "stdout",
          "text": [
            "Mounted at /content/drive\n"
          ]
        }
      ]
    },
    {
      "cell_type": "code",
      "source": [
        "gdrv_file='/content/flights.db'\n",
        "print(gdrv_file)"
      ],
      "metadata": {
        "id": "IUzUZKru5I_x",
        "outputId": "10694653-f9f7-47b1-89bd-e3bea9677d53",
        "colab": {
          "base_uri": "https://localhost:8080/"
        }
      },
      "execution_count": 10,
      "outputs": [
        {
          "output_type": "stream",
          "name": "stdout",
          "text": [
            "/content/flights.db\n"
          ]
        }
      ]
    },
    {
      "cell_type": "code",
      "source": [
        "import sqlite3\n",
        "lt_conn = sqlite3.connect(gdrv_file)\n",
        "db_cursor = lt_conn.cursor()\n",
        "db_cursor.execute(\"select * from airlines limit 5;\")\n",
        "db_rows = db_cursor.fetchall()\n",
        "print(db_rows[0])\n",
        "db_cursor.close()\n",
        "lt_conn.close()"
      ],
      "metadata": {
        "colab": {
          "base_uri": "https://localhost:8080/"
        },
        "id": "r85j3jlUhl42",
        "outputId": "6aa6c564-a2a2-4726-ec7b-a050c54a45a1"
      },
      "execution_count": 11,
      "outputs": [
        {
          "output_type": "stream",
          "name": "stdout",
          "text": [
            "(0, '1', 'Private flight', '\\\\N', '-', None, None, None, 'Y')\n"
          ]
        }
      ]
    },
    {
      "cell_type": "markdown",
      "source": [
        "# Using Pandas DataFrame to manipulate database"
      ],
      "metadata": {
        "id": "1xCOHG4ob_GK"
      }
    },
    {
      "cell_type": "code",
      "source": [
        "import sqlite3\n",
        "import pandas as pd\n",
        "lt_conn = sqlite3.connect(gdrv_file)\n",
        "db_query = pd.read_sql_query('''select * from airlines limit 5;''', lt_conn)\n",
        "df = pd.DataFrame(db_query)\n",
        "lt_conn.close()\n",
        "df"
      ],
      "metadata": {
        "colab": {
          "base_uri": "https://localhost:8080/",
          "height": 206
        },
        "id": "chjBv8S3h1co",
        "outputId": "4923258e-ae2b-4a75-dfda-07ee499a267b"
      },
      "execution_count": 12,
      "outputs": [
        {
          "output_type": "execute_result",
          "data": {
            "text/plain": [
              "   index id                                          name alias  iata  icao  \\\n",
              "0      0  1                                Private flight    \\N     -  None   \n",
              "1      1  2                                   135 Airways    \\N  None   GNL   \n",
              "2      2  3                                 1Time Airline    \\N    1T   RNX   \n",
              "3      3  4  2 Sqn No 1 Elementary Flying Training School    \\N  None   WYT   \n",
              "4      4  5                               213 Flight Unit    \\N  None   TFU   \n",
              "\n",
              "  callsign         country active  \n",
              "0     None            None      Y  \n",
              "1  GENERAL   United States      N  \n",
              "2  NEXTIME    South Africa      Y  \n",
              "3     None  United Kingdom      N  \n",
              "4     None          Russia      N  "
            ],
            "text/html": [
              "\n",
              "  <div id=\"df-e02fa791-4bda-43a7-b880-3c59c4182425\" class=\"colab-df-container\">\n",
              "    <div>\n",
              "<style scoped>\n",
              "    .dataframe tbody tr th:only-of-type {\n",
              "        vertical-align: middle;\n",
              "    }\n",
              "\n",
              "    .dataframe tbody tr th {\n",
              "        vertical-align: top;\n",
              "    }\n",
              "\n",
              "    .dataframe thead th {\n",
              "        text-align: right;\n",
              "    }\n",
              "</style>\n",
              "<table border=\"1\" class=\"dataframe\">\n",
              "  <thead>\n",
              "    <tr style=\"text-align: right;\">\n",
              "      <th></th>\n",
              "      <th>index</th>\n",
              "      <th>id</th>\n",
              "      <th>name</th>\n",
              "      <th>alias</th>\n",
              "      <th>iata</th>\n",
              "      <th>icao</th>\n",
              "      <th>callsign</th>\n",
              "      <th>country</th>\n",
              "      <th>active</th>\n",
              "    </tr>\n",
              "  </thead>\n",
              "  <tbody>\n",
              "    <tr>\n",
              "      <th>0</th>\n",
              "      <td>0</td>\n",
              "      <td>1</td>\n",
              "      <td>Private flight</td>\n",
              "      <td>\\N</td>\n",
              "      <td>-</td>\n",
              "      <td>None</td>\n",
              "      <td>None</td>\n",
              "      <td>None</td>\n",
              "      <td>Y</td>\n",
              "    </tr>\n",
              "    <tr>\n",
              "      <th>1</th>\n",
              "      <td>1</td>\n",
              "      <td>2</td>\n",
              "      <td>135 Airways</td>\n",
              "      <td>\\N</td>\n",
              "      <td>None</td>\n",
              "      <td>GNL</td>\n",
              "      <td>GENERAL</td>\n",
              "      <td>United States</td>\n",
              "      <td>N</td>\n",
              "    </tr>\n",
              "    <tr>\n",
              "      <th>2</th>\n",
              "      <td>2</td>\n",
              "      <td>3</td>\n",
              "      <td>1Time Airline</td>\n",
              "      <td>\\N</td>\n",
              "      <td>1T</td>\n",
              "      <td>RNX</td>\n",
              "      <td>NEXTIME</td>\n",
              "      <td>South Africa</td>\n",
              "      <td>Y</td>\n",
              "    </tr>\n",
              "    <tr>\n",
              "      <th>3</th>\n",
              "      <td>3</td>\n",
              "      <td>4</td>\n",
              "      <td>2 Sqn No 1 Elementary Flying Training School</td>\n",
              "      <td>\\N</td>\n",
              "      <td>None</td>\n",
              "      <td>WYT</td>\n",
              "      <td>None</td>\n",
              "      <td>United Kingdom</td>\n",
              "      <td>N</td>\n",
              "    </tr>\n",
              "    <tr>\n",
              "      <th>4</th>\n",
              "      <td>4</td>\n",
              "      <td>5</td>\n",
              "      <td>213 Flight Unit</td>\n",
              "      <td>\\N</td>\n",
              "      <td>None</td>\n",
              "      <td>TFU</td>\n",
              "      <td>None</td>\n",
              "      <td>Russia</td>\n",
              "      <td>N</td>\n",
              "    </tr>\n",
              "  </tbody>\n",
              "</table>\n",
              "</div>\n",
              "    <div class=\"colab-df-buttons\">\n",
              "\n",
              "  <div class=\"colab-df-container\">\n",
              "    <button class=\"colab-df-convert\" onclick=\"convertToInteractive('df-e02fa791-4bda-43a7-b880-3c59c4182425')\"\n",
              "            title=\"Convert this dataframe to an interactive table.\"\n",
              "            style=\"display:none;\">\n",
              "\n",
              "  <svg xmlns=\"http://www.w3.org/2000/svg\" height=\"24px\" viewBox=\"0 -960 960 960\">\n",
              "    <path d=\"M120-120v-720h720v720H120Zm60-500h600v-160H180v160Zm220 220h160v-160H400v160Zm0 220h160v-160H400v160ZM180-400h160v-160H180v160Zm440 0h160v-160H620v160ZM180-180h160v-160H180v160Zm440 0h160v-160H620v160Z\"/>\n",
              "  </svg>\n",
              "    </button>\n",
              "\n",
              "  <style>\n",
              "    .colab-df-container {\n",
              "      display:flex;\n",
              "      gap: 12px;\n",
              "    }\n",
              "\n",
              "    .colab-df-convert {\n",
              "      background-color: #E8F0FE;\n",
              "      border: none;\n",
              "      border-radius: 50%;\n",
              "      cursor: pointer;\n",
              "      display: none;\n",
              "      fill: #1967D2;\n",
              "      height: 32px;\n",
              "      padding: 0 0 0 0;\n",
              "      width: 32px;\n",
              "    }\n",
              "\n",
              "    .colab-df-convert:hover {\n",
              "      background-color: #E2EBFA;\n",
              "      box-shadow: 0px 1px 2px rgba(60, 64, 67, 0.3), 0px 1px 3px 1px rgba(60, 64, 67, 0.15);\n",
              "      fill: #174EA6;\n",
              "    }\n",
              "\n",
              "    .colab-df-buttons div {\n",
              "      margin-bottom: 4px;\n",
              "    }\n",
              "\n",
              "    [theme=dark] .colab-df-convert {\n",
              "      background-color: #3B4455;\n",
              "      fill: #D2E3FC;\n",
              "    }\n",
              "\n",
              "    [theme=dark] .colab-df-convert:hover {\n",
              "      background-color: #434B5C;\n",
              "      box-shadow: 0px 1px 3px 1px rgba(0, 0, 0, 0.15);\n",
              "      filter: drop-shadow(0px 1px 2px rgba(0, 0, 0, 0.3));\n",
              "      fill: #FFFFFF;\n",
              "    }\n",
              "  </style>\n",
              "\n",
              "    <script>\n",
              "      const buttonEl =\n",
              "        document.querySelector('#df-e02fa791-4bda-43a7-b880-3c59c4182425 button.colab-df-convert');\n",
              "      buttonEl.style.display =\n",
              "        google.colab.kernel.accessAllowed ? 'block' : 'none';\n",
              "\n",
              "      async function convertToInteractive(key) {\n",
              "        const element = document.querySelector('#df-e02fa791-4bda-43a7-b880-3c59c4182425');\n",
              "        const dataTable =\n",
              "          await google.colab.kernel.invokeFunction('convertToInteractive',\n",
              "                                                    [key], {});\n",
              "        if (!dataTable) return;\n",
              "\n",
              "        const docLinkHtml = 'Like what you see? Visit the ' +\n",
              "          '<a target=\"_blank\" href=https://colab.research.google.com/notebooks/data_table.ipynb>data table notebook</a>'\n",
              "          + ' to learn more about interactive tables.';\n",
              "        element.innerHTML = '';\n",
              "        dataTable['output_type'] = 'display_data';\n",
              "        await google.colab.output.renderOutput(dataTable, element);\n",
              "        const docLink = document.createElement('div');\n",
              "        docLink.innerHTML = docLinkHtml;\n",
              "        element.appendChild(docLink);\n",
              "      }\n",
              "    </script>\n",
              "  </div>\n",
              "\n",
              "\n",
              "<div id=\"df-9470a070-dbbf-4f06-8afc-6a7eb686758d\">\n",
              "  <button class=\"colab-df-quickchart\" onclick=\"quickchart('df-9470a070-dbbf-4f06-8afc-6a7eb686758d')\"\n",
              "            title=\"Suggest charts\"\n",
              "            style=\"display:none;\">\n",
              "\n",
              "<svg xmlns=\"http://www.w3.org/2000/svg\" height=\"24px\"viewBox=\"0 0 24 24\"\n",
              "     width=\"24px\">\n",
              "    <g>\n",
              "        <path d=\"M19 3H5c-1.1 0-2 .9-2 2v14c0 1.1.9 2 2 2h14c1.1 0 2-.9 2-2V5c0-1.1-.9-2-2-2zM9 17H7v-7h2v7zm4 0h-2V7h2v10zm4 0h-2v-4h2v4z\"/>\n",
              "    </g>\n",
              "</svg>\n",
              "  </button>\n",
              "\n",
              "<style>\n",
              "  .colab-df-quickchart {\n",
              "      --bg-color: #E8F0FE;\n",
              "      --fill-color: #1967D2;\n",
              "      --hover-bg-color: #E2EBFA;\n",
              "      --hover-fill-color: #174EA6;\n",
              "      --disabled-fill-color: #AAA;\n",
              "      --disabled-bg-color: #DDD;\n",
              "  }\n",
              "\n",
              "  [theme=dark] .colab-df-quickchart {\n",
              "      --bg-color: #3B4455;\n",
              "      --fill-color: #D2E3FC;\n",
              "      --hover-bg-color: #434B5C;\n",
              "      --hover-fill-color: #FFFFFF;\n",
              "      --disabled-bg-color: #3B4455;\n",
              "      --disabled-fill-color: #666;\n",
              "  }\n",
              "\n",
              "  .colab-df-quickchart {\n",
              "    background-color: var(--bg-color);\n",
              "    border: none;\n",
              "    border-radius: 50%;\n",
              "    cursor: pointer;\n",
              "    display: none;\n",
              "    fill: var(--fill-color);\n",
              "    height: 32px;\n",
              "    padding: 0;\n",
              "    width: 32px;\n",
              "  }\n",
              "\n",
              "  .colab-df-quickchart:hover {\n",
              "    background-color: var(--hover-bg-color);\n",
              "    box-shadow: 0 1px 2px rgba(60, 64, 67, 0.3), 0 1px 3px 1px rgba(60, 64, 67, 0.15);\n",
              "    fill: var(--button-hover-fill-color);\n",
              "  }\n",
              "\n",
              "  .colab-df-quickchart-complete:disabled,\n",
              "  .colab-df-quickchart-complete:disabled:hover {\n",
              "    background-color: var(--disabled-bg-color);\n",
              "    fill: var(--disabled-fill-color);\n",
              "    box-shadow: none;\n",
              "  }\n",
              "\n",
              "  .colab-df-spinner {\n",
              "    border: 2px solid var(--fill-color);\n",
              "    border-color: transparent;\n",
              "    border-bottom-color: var(--fill-color);\n",
              "    animation:\n",
              "      spin 1s steps(1) infinite;\n",
              "  }\n",
              "\n",
              "  @keyframes spin {\n",
              "    0% {\n",
              "      border-color: transparent;\n",
              "      border-bottom-color: var(--fill-color);\n",
              "      border-left-color: var(--fill-color);\n",
              "    }\n",
              "    20% {\n",
              "      border-color: transparent;\n",
              "      border-left-color: var(--fill-color);\n",
              "      border-top-color: var(--fill-color);\n",
              "    }\n",
              "    30% {\n",
              "      border-color: transparent;\n",
              "      border-left-color: var(--fill-color);\n",
              "      border-top-color: var(--fill-color);\n",
              "      border-right-color: var(--fill-color);\n",
              "    }\n",
              "    40% {\n",
              "      border-color: transparent;\n",
              "      border-right-color: var(--fill-color);\n",
              "      border-top-color: var(--fill-color);\n",
              "    }\n",
              "    60% {\n",
              "      border-color: transparent;\n",
              "      border-right-color: var(--fill-color);\n",
              "    }\n",
              "    80% {\n",
              "      border-color: transparent;\n",
              "      border-right-color: var(--fill-color);\n",
              "      border-bottom-color: var(--fill-color);\n",
              "    }\n",
              "    90% {\n",
              "      border-color: transparent;\n",
              "      border-bottom-color: var(--fill-color);\n",
              "    }\n",
              "  }\n",
              "</style>\n",
              "\n",
              "  <script>\n",
              "    async function quickchart(key) {\n",
              "      const quickchartButtonEl =\n",
              "        document.querySelector('#' + key + ' button');\n",
              "      quickchartButtonEl.disabled = true;  // To prevent multiple clicks.\n",
              "      quickchartButtonEl.classList.add('colab-df-spinner');\n",
              "      try {\n",
              "        const charts = await google.colab.kernel.invokeFunction(\n",
              "            'suggestCharts', [key], {});\n",
              "      } catch (error) {\n",
              "        console.error('Error during call to suggestCharts:', error);\n",
              "      }\n",
              "      quickchartButtonEl.classList.remove('colab-df-spinner');\n",
              "      quickchartButtonEl.classList.add('colab-df-quickchart-complete');\n",
              "    }\n",
              "    (() => {\n",
              "      let quickchartButtonEl =\n",
              "        document.querySelector('#df-9470a070-dbbf-4f06-8afc-6a7eb686758d button');\n",
              "      quickchartButtonEl.style.display =\n",
              "        google.colab.kernel.accessAllowed ? 'block' : 'none';\n",
              "    })();\n",
              "  </script>\n",
              "</div>\n",
              "\n",
              "  <div id=\"id_2ce3e0c0-3922-4d30-8332-2cf9b80101e1\">\n",
              "    <style>\n",
              "      .colab-df-generate {\n",
              "        background-color: #E8F0FE;\n",
              "        border: none;\n",
              "        border-radius: 50%;\n",
              "        cursor: pointer;\n",
              "        display: none;\n",
              "        fill: #1967D2;\n",
              "        height: 32px;\n",
              "        padding: 0 0 0 0;\n",
              "        width: 32px;\n",
              "      }\n",
              "\n",
              "      .colab-df-generate:hover {\n",
              "        background-color: #E2EBFA;\n",
              "        box-shadow: 0px 1px 2px rgba(60, 64, 67, 0.3), 0px 1px 3px 1px rgba(60, 64, 67, 0.15);\n",
              "        fill: #174EA6;\n",
              "      }\n",
              "\n",
              "      [theme=dark] .colab-df-generate {\n",
              "        background-color: #3B4455;\n",
              "        fill: #D2E3FC;\n",
              "      }\n",
              "\n",
              "      [theme=dark] .colab-df-generate:hover {\n",
              "        background-color: #434B5C;\n",
              "        box-shadow: 0px 1px 3px 1px rgba(0, 0, 0, 0.15);\n",
              "        filter: drop-shadow(0px 1px 2px rgba(0, 0, 0, 0.3));\n",
              "        fill: #FFFFFF;\n",
              "      }\n",
              "    </style>\n",
              "    <button class=\"colab-df-generate\" onclick=\"generateWithVariable('df')\"\n",
              "            title=\"Generate code using this dataframe.\"\n",
              "            style=\"display:none;\">\n",
              "\n",
              "  <svg xmlns=\"http://www.w3.org/2000/svg\" height=\"24px\"viewBox=\"0 0 24 24\"\n",
              "       width=\"24px\">\n",
              "    <path d=\"M7,19H8.4L18.45,9,17,7.55,7,17.6ZM5,21V16.75L18.45,3.32a2,2,0,0,1,2.83,0l1.4,1.43a1.91,1.91,0,0,1,.58,1.4,1.91,1.91,0,0,1-.58,1.4L9.25,21ZM18.45,9,17,7.55Zm-12,3A5.31,5.31,0,0,0,4.9,8.1,5.31,5.31,0,0,0,1,6.5,5.31,5.31,0,0,0,4.9,4.9,5.31,5.31,0,0,0,6.5,1,5.31,5.31,0,0,0,8.1,4.9,5.31,5.31,0,0,0,12,6.5,5.46,5.46,0,0,0,6.5,12Z\"/>\n",
              "  </svg>\n",
              "    </button>\n",
              "    <script>\n",
              "      (() => {\n",
              "      const buttonEl =\n",
              "        document.querySelector('#id_2ce3e0c0-3922-4d30-8332-2cf9b80101e1 button.colab-df-generate');\n",
              "      buttonEl.style.display =\n",
              "        google.colab.kernel.accessAllowed ? 'block' : 'none';\n",
              "\n",
              "      buttonEl.onclick = () => {\n",
              "        google.colab.notebook.generateWithVariable('df');\n",
              "      }\n",
              "      })();\n",
              "    </script>\n",
              "  </div>\n",
              "\n",
              "    </div>\n",
              "  </div>\n"
            ],
            "application/vnd.google.colaboratory.intrinsic+json": {
              "type": "dataframe",
              "variable_name": "df",
              "summary": "{\n  \"name\": \"df\",\n  \"rows\": 5,\n  \"fields\": [\n    {\n      \"column\": \"index\",\n      \"properties\": {\n        \"dtype\": \"number\",\n        \"std\": 1,\n        \"min\": 0,\n        \"max\": 4,\n        \"num_unique_values\": 5,\n        \"samples\": [\n          1,\n          4,\n          2\n        ],\n        \"semantic_type\": \"\",\n        \"description\": \"\"\n      }\n    },\n    {\n      \"column\": \"id\",\n      \"properties\": {\n        \"dtype\": \"string\",\n        \"num_unique_values\": 5,\n        \"samples\": [\n          \"2\",\n          \"5\",\n          \"3\"\n        ],\n        \"semantic_type\": \"\",\n        \"description\": \"\"\n      }\n    },\n    {\n      \"column\": \"name\",\n      \"properties\": {\n        \"dtype\": \"string\",\n        \"num_unique_values\": 5,\n        \"samples\": [\n          \"135 Airways\",\n          \"213 Flight Unit\",\n          \"1Time Airline\"\n        ],\n        \"semantic_type\": \"\",\n        \"description\": \"\"\n      }\n    },\n    {\n      \"column\": \"alias\",\n      \"properties\": {\n        \"dtype\": \"category\",\n        \"num_unique_values\": 1,\n        \"samples\": [\n          \"\\\\N\"\n        ],\n        \"semantic_type\": \"\",\n        \"description\": \"\"\n      }\n    },\n    {\n      \"column\": \"iata\",\n      \"properties\": {\n        \"dtype\": \"category\",\n        \"num_unique_values\": 2,\n        \"samples\": [\n          \"1T\"\n        ],\n        \"semantic_type\": \"\",\n        \"description\": \"\"\n      }\n    },\n    {\n      \"column\": \"icao\",\n      \"properties\": {\n        \"dtype\": \"string\",\n        \"num_unique_values\": 4,\n        \"samples\": [\n          \"RNX\"\n        ],\n        \"semantic_type\": \"\",\n        \"description\": \"\"\n      }\n    },\n    {\n      \"column\": \"callsign\",\n      \"properties\": {\n        \"dtype\": \"category\",\n        \"num_unique_values\": 2,\n        \"samples\": [\n          \"NEXTIME\"\n        ],\n        \"semantic_type\": \"\",\n        \"description\": \"\"\n      }\n    },\n    {\n      \"column\": \"country\",\n      \"properties\": {\n        \"dtype\": \"string\",\n        \"num_unique_values\": 4,\n        \"samples\": [\n          \"South Africa\"\n        ],\n        \"semantic_type\": \"\",\n        \"description\": \"\"\n      }\n    },\n    {\n      \"column\": \"active\",\n      \"properties\": {\n        \"dtype\": \"category\",\n        \"num_unique_values\": 2,\n        \"samples\": [\n          \"N\"\n        ],\n        \"semantic_type\": \"\",\n        \"description\": \"\"\n      }\n    }\n  ]\n}"
            }
          },
          "metadata": {},
          "execution_count": 12
        }
      ]
    },
    {
      "cell_type": "markdown",
      "source": [
        "sqlite3 is a lightweight, serverless, self-contained SQL database engine that is included with Python's standard library. It is excellent for small-scale applications and local data storage. Here's a guide to using sqlite3 with Python:"
      ],
      "metadata": {
        "id": "MIBuZOek8D-O"
      }
    },
    {
      "cell_type": "markdown",
      "source": [
        "# **1. Setting Up and Connecting**\n"
      ],
      "metadata": {
        "id": "w762qiMA8FvG"
      }
    },
    {
      "cell_type": "code",
      "source": [
        "import sqlite3\n",
        "\n",
        "# Connect to a database (or create it if it doesn't exist)\n",
        "connection = sqlite3.connect(\"example.db\")\n",
        "\n",
        "# Create a cursor object to execute SQL commands\n",
        "cursor = connection.cursor()\n"
      ],
      "metadata": {
        "id": "8CSwoPms9FDD"
      },
      "execution_count": 13,
      "outputs": []
    },
    {
      "cell_type": "markdown",
      "source": [
        "# **2. Creating a Table**\n",
        "\n"
      ],
      "metadata": {
        "id": "KYwD5a0E8MGl"
      }
    },
    {
      "cell_type": "code",
      "source": [
        "# SQL command to create a table\n",
        "create_table_query = \"\"\"\n",
        "CREATE TABLE IF NOT EXISTS users (\n",
        "    id INTEGER PRIMARY KEY AUTOINCREMENT,\n",
        "    name TEXT NOT NULL,\n",
        "    age INTEGER,\n",
        "    email TEXT UNIQUE\n",
        ")\n",
        "\"\"\"\n",
        "cursor.execute(create_table_query)\n"
      ],
      "metadata": {
        "id": "EvR5Ifud8PlW",
        "outputId": "0c197e2f-7151-4e8c-c794-bd5db094cccb",
        "colab": {
          "base_uri": "https://localhost:8080/"
        }
      },
      "execution_count": 24,
      "outputs": [
        {
          "output_type": "execute_result",
          "data": {
            "text/plain": [
              "<sqlite3.Cursor at 0x7f0e5db0dbc0>"
            ]
          },
          "metadata": {},
          "execution_count": 24
        }
      ]
    },
    {
      "cell_type": "markdown",
      "source": [
        "# **3. Inserting Data**"
      ],
      "metadata": {
        "id": "fuKEw9Nn8W6F"
      }
    },
    {
      "cell_type": "code",
      "source": [
        "# Insert a single row\n",
        "insert_query = \"INSERT INTO users (name, age, email) VALUES (?, ?, ?)\"\n",
        "cursor.execute(insert_query, (\"Alice\", 25, \"alice@example.com\"))\n",
        "\n",
        "# Insert multiple rows\n",
        "users = [\n",
        "    (\"Bob\", 30, \"bob@example.com\"),\n",
        "    (\"Charlie\", 35, \"charlie@example.com\")\n",
        "]\n",
        "cursor.executemany(insert_query, users)\n",
        "\n",
        "# Commit the transaction\n",
        "connection.commit()\n"
      ],
      "metadata": {
        "id": "J9BarTgb8Z19",
        "outputId": "19af4204-df09-41a8-977a-5aaf3f5bbe03",
        "colab": {
          "base_uri": "https://localhost:8080/",
          "height": 211
        }
      },
      "execution_count": 25,
      "outputs": [
        {
          "output_type": "error",
          "ename": "IntegrityError",
          "evalue": "UNIQUE constraint failed: users.email",
          "traceback": [
            "\u001b[0;31m---------------------------------------------------------------------------\u001b[0m",
            "\u001b[0;31mIntegrityError\u001b[0m                            Traceback (most recent call last)",
            "\u001b[0;32m<ipython-input-25-a0bbbeb77f9e>\u001b[0m in \u001b[0;36m<cell line: 3>\u001b[0;34m()\u001b[0m\n\u001b[1;32m      1\u001b[0m \u001b[0;31m# Insert a single row\u001b[0m\u001b[0;34m\u001b[0m\u001b[0;34m\u001b[0m\u001b[0m\n\u001b[1;32m      2\u001b[0m \u001b[0minsert_query\u001b[0m \u001b[0;34m=\u001b[0m \u001b[0;34m\"INSERT INTO users (name, age, email) VALUES (?, ?, ?)\"\u001b[0m\u001b[0;34m\u001b[0m\u001b[0;34m\u001b[0m\u001b[0m\n\u001b[0;32m----> 3\u001b[0;31m \u001b[0mcursor\u001b[0m\u001b[0;34m.\u001b[0m\u001b[0mexecute\u001b[0m\u001b[0;34m(\u001b[0m\u001b[0minsert_query\u001b[0m\u001b[0;34m,\u001b[0m \u001b[0;34m(\u001b[0m\u001b[0;34m\"Alice\"\u001b[0m\u001b[0;34m,\u001b[0m \u001b[0;36m25\u001b[0m\u001b[0;34m,\u001b[0m \u001b[0;34m\"alice@example.com\"\u001b[0m\u001b[0;34m)\u001b[0m\u001b[0;34m)\u001b[0m\u001b[0;34m\u001b[0m\u001b[0;34m\u001b[0m\u001b[0m\n\u001b[0m\u001b[1;32m      4\u001b[0m \u001b[0;34m\u001b[0m\u001b[0m\n\u001b[1;32m      5\u001b[0m \u001b[0;31m# Insert multiple rows\u001b[0m\u001b[0;34m\u001b[0m\u001b[0;34m\u001b[0m\u001b[0m\n",
            "\u001b[0;31mIntegrityError\u001b[0m: UNIQUE constraint failed: users.email"
          ]
        }
      ]
    },
    {
      "cell_type": "markdown",
      "source": [
        "# **4. Querying Data**\n"
      ],
      "metadata": {
        "id": "kRkqYCUS8eOu"
      }
    },
    {
      "cell_type": "code",
      "source": [
        "# Fetch all rows\n",
        "select_query = \"SELECT * FROM users\"\n",
        "cursor.execute(select_query)\n",
        "all_rows = cursor.fetchall()\n",
        "for row in all_rows:\n",
        "    print(row)\n",
        "\n",
        "# Fetch a specific row\n",
        "cursor.execute(\"SELECT * FROM users WHERE name = ?\", (\"Alice\",))\n",
        "alice_row = cursor.fetchone()\n",
        "print(alice_row)\n"
      ],
      "metadata": {
        "id": "E3swnDVU8jPF",
        "outputId": "25d5178b-48c7-4223-ad93-a4500910d8eb",
        "colab": {
          "base_uri": "https://localhost:8080/"
        }
      },
      "execution_count": 26,
      "outputs": [
        {
          "output_type": "stream",
          "name": "stdout",
          "text": [
            "(1, 'Alice', 26, 'alice@example.com')\n",
            "(2, 'Bob', 30, 'bob@example.com')\n",
            "(1, 'Alice', 26, 'alice@example.com')\n"
          ]
        }
      ]
    },
    {
      "cell_type": "markdown",
      "source": [
        "# **5. Updating Data**\n",
        "\n"
      ],
      "metadata": {
        "id": "y7quZ5JM8pHk"
      }
    },
    {
      "cell_type": "code",
      "source": [
        "update_query = \"UPDATE users SET age = ? WHERE name = ?\"\n",
        "cursor.execute(update_query, (26, \"Alice\"))\n",
        "connection.commit()\n"
      ],
      "metadata": {
        "id": "1KaEnoMq8sFc"
      },
      "execution_count": 27,
      "outputs": []
    },
    {
      "cell_type": "markdown",
      "source": [
        "# **6. Deleting Data**\n",
        "\n"
      ],
      "metadata": {
        "id": "nnBZX0H88uzE"
      }
    },
    {
      "cell_type": "code",
      "source": [
        "delete_query = \"DELETE FROM users WHERE name = ?\"\n",
        "cursor.execute(delete_query, (\"Charlie\",))\n",
        "connection.commit()\n"
      ],
      "metadata": {
        "id": "yTwJSXpM8xv0"
      },
      "execution_count": 28,
      "outputs": []
    },
    {
      "cell_type": "markdown",
      "source": [
        "# **7. Handling Exceptions**\n",
        "\n"
      ],
      "metadata": {
        "id": "C4bEvZTH9Cpz"
      }
    },
    {
      "cell_type": "code",
      "source": [
        "try:\n",
        "    connection = sqlite3.connect(\"example.db\")\n",
        "    cursor = connection.cursor()\n",
        "    # Your database operations here\n",
        "except sqlite3.Error as e:\n",
        "    print(f\"An error occurred: {e}\")\n",
        "finally:\n",
        "    if connection:\n",
        "        connection.close()\n"
      ],
      "metadata": {
        "id": "Rr0cIAY39G_U"
      },
      "execution_count": 29,
      "outputs": []
    },
    {
      "cell_type": "markdown",
      "source": [
        "# **8. Closing the Connection**\n",
        "\n"
      ],
      "metadata": {
        "id": "2dyO46Nk9L2C"
      }
    },
    {
      "cell_type": "code",
      "source": [
        "connection.close()\n"
      ],
      "metadata": {
        "id": "z7EIcw1g9PHy"
      },
      "execution_count": 30,
      "outputs": []
    }
  ]
}